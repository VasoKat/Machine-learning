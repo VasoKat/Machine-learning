{
  "cells": [
    {
      "cell_type": "markdown",
      "metadata": {
        "id": "y3Jp_VhCl4te",
        "tags": []
      },
      "source": [
        "# MΥΕ046 – Υπολογιστική Όραση: Άνοιξη 2023\n",
        "## 3η Σειρά Ασκήσεων: 50% του συνολικού βαθμού\n",
        "## Διδάσκων: Άγγελος Γιώτης\n",
        "- ΠΑΡΑΔΟΣΗ: **Σάββατο, 10 Ιουνίου, 2023 23:59**"
      ]
    },
    {
      "cell_type": "markdown",
      "metadata": {
        "id": "FOXXS2dOl4tj",
        "tags": []
      },
      "source": [
        "# Γενικές Οδηγίες\n",
        "\n",
        "Απαντήστε στα παρακάτω ζητήματα χρησιμοποιώντας Python στο συνημμένο σημειωματάριο Jupyter και ακολουθήστε τις παρακάτω οδηγίες:\n",
        " \n",
        "- Οι ασκήσεις είναι **ατομικές** - δεν επιτρέπεται η μεταξύ σας συνεργασία για την υλοποίηση/παράδοσή τους.\n",
        "\n",
        "- **Δεν** επιτρέπεται να χρησιμοποιήσετε κώδικα που τυχόν θα βρείτε στο διαδίκτυο (είτε αυτούσιο, είτε **παραγόμενο από ΑΙ**). Η χρήση κώδικα τρίτων θα έχει σαν αποτέλεσμα τον αυτόματο μηδενισμό σας.\n",
        "\n",
        "- Όλες οι λύσεις πρέπει να είναι γραμμένες σε αυτό το σημειωματάριο `Jupyter notebook`.\n",
        "\n",
        "* **Εάν** ένα ζήτημα περιλαμβάνει θεωρητική ερώτηση, η απάντηση θα **πρέπει** να συμπεριληφθεί στο τέλος του ζητήματος, σε ξεχωριστό \"Markdown\" κελί.\n",
        "\n",
        "- Ο κώδικάς σας πρέπει να σχολιαστεί εκτενώς!\n",
        "\n",
        "- Αφού ολοκληρώσετε (υλοποιήσετε και εκτελέσετε) τις απαντήσεις σας στο σημειωματάριο (notebook), εξαγάγετε το notebook ως PDF και υποβάλετε, τόσο το σημειωματάριο όσο και το PDF (δηλαδή τα αρχεία `.ipynb` και `.pdf`) στο `turnin` του μαθήματος, μαζί με ένα συνοδευτικό αρχείο `onoma.txt` που θα περιέχει το ον/μο σας και τον Α.Μ. σας.\n",
        "\n",
        "- Οι απαντήσεις θα παραδοθούν με την εντολή: **turnin assignment_3@mye046 onoma.txt assignment3.ipynb assignment3.pdf**\n",
        "\n",
        "- Μπορείτε να χρησιμοποιήσετε βασικά πακέτα γραμμικής άλγεβρας (π.χ. `NumPy`, `SciPy`), αλλά δεν επιτρέπεται να χρησιμοποιείτε τα πακέτα/βιβλιοθήκες που επιλύουν άμεσα τα προβλήματα, εκτός και αν αναφέρεται διαφορετικά η χρήση συγκεκριμένου πακέτου σε κάποιο ζήτημα. Αν δεν είστε βέβαιοι για κάποιο συγκεκριμένο πακέτο/βιβλιοθήκη ή συνάρτηση που θα χρησιμοποιήσετε, μη διστάσετε να ρωτήσετε τον διδάσκοντα.\n",
        "\n",
        "- Συνιστάται ιδιαίτερα να αρχίσετε να εργάζεστε στις ασκήσεις σας το συντομότερο δυνατό!\n",
        "\n",
        "**Late Policy:** Εργασίες που υποβάλλονται καθυστερημένα θα λαμβάνουν μείωση βαθμού 10% για κάθε 24 ώρες καθυστέρησης. Οι εργασίες δεν θα γίνονται δεκτές 96 ώρες (4 ημέρες) μετά την προθεσμία παράδοσης. Για παράδειγμα, παράδοση της εργασίας 2 ημέρες μετά την προθεσμία βαθμολογείται με άριστα το 40 (από 50)."
      ]
    },
    {
      "cell_type": "markdown",
      "metadata": {
        "id": "l5pbyh5yl4tk",
        "tags": [],
        "toc-hr-collapsed": true
      },
      "source": [
        "## Άσκηση 1: Μηχανική Μάθηση [25 μονάδες]"
      ]
    },
    {
      "cell_type": "markdown",
      "metadata": {
        "id": "m16Ecnjdl4tk"
      },
      "source": [
        "Στην άσκηση αυτή θα υλοποιήσετε μια σειρά από τεχνικές μηχανικής μάθησης με εφαρμογή στην επίλυση προβλημάτων υπολογιστικής όρασης."
      ]
    },
    {
      "cell_type": "markdown",
      "metadata": {
        "id": "zQpyhnvIl4tk"
      },
      "source": [
        "### Ζήτημα 1.1: Αρχική Εγκατάσταση"
      ]
    },
    {
      "cell_type": "markdown",
      "metadata": {
        "id": "CCC0JD1Il4tl"
      },
      "source": [
        "Θα χρησιμοποιήσουμε την ενότητα [Scikit-learn (Sklearn)](https://scikit-learn.org/stable/) για αυτή την άσκηση. Είναι μια από τις πιο χρήσιμες και ισχυρές βιβλιοθήκες για μηχανική μάθηση στην Python. Παρέχει μια επιλογή αποτελεσματικών εργαλείων για μηχανική μάθηση και στατιστική μοντελοποίηση, συμπεριλαμβανομένης της ταξινόμησης (classification), της παλινδρόμησης (regression), της ομαδοποίησης (clustering) και της μείωσης διάστασης (dimensionality reduction). Αυτό το πακέτο, το οποίο είναι σε μεγάλο βαθμό γραμμένο σε Python, βασίζεται στις βιβλιοθήκες NumPy, SciPy και Matplotlib.\n",
        "\n",
        "Αρχικά καλούμε/εγκαθιστούμε τη βασική μονάδα της βιβλιοθήκης sklearn."
      ]
    },
    {
      "cell_type": "code",
      "execution_count": 33,
      "metadata": {
        "id": "8ZiYlaSol4tm",
        "colab": {
          "base_uri": "https://localhost:8080/",
          "height": 36
        },
        "outputId": "02b4cbc0-f773-4cc6-b101-971393fc12b4"
      },
      "outputs": [
        {
          "output_type": "execute_result",
          "data": {
            "text/plain": [
              "'1.2.2'"
            ],
            "application/vnd.google.colaboratory.intrinsic+json": {
              "type": "string"
            }
          },
          "metadata": {},
          "execution_count": 33
        }
      ],
      "source": [
        "import sklearn\n",
        "sklearn.__version__"
      ]
    },
    {
      "cell_type": "markdown",
      "metadata": {
        "id": "0SQL5iPKl4to"
      },
      "source": [
        "### Ζήτημα 1.2: Λήψη συνόλου δεδομένων χειρόγραφων ψηφίων \"MNIST\" και απεικόνιση παραδειγμάτων [2 μονάδες]"
      ]
    },
    {
      "cell_type": "markdown",
      "metadata": {
        "id": "-_f1_Tz7l4tq"
      },
      "source": [
        "Η βάση δεδομένων [MNIST](https://en.wikipedia.org/wiki/MNIST_database) (Modified National Institute of Standards and Technology database) είναι ένα αρκετά διαδεδομένο σύνολο δεδομένων που αποτελείται από εικόνες χειρόγραφων ψηφίων, διαστάσεων 28x28 σε κλίμακα του γκρι. Για αυτό το ζήτημα, θα χρησιμοποιήσουμε το πακέτο Sklearn για να κάνουμε ταξινόμηση μηχανικής μάθησης στο σύνολο δεδομένων MNIST.\n",
        "\n",
        "Το Sklearn παρέχει μια βάση δεδομένων MNIST χαμηλότερης ανάλυσης με εικόνες ψηφίων 8x8 pixel. Το πεδίο (attribute) `images` του συνόλου δεδομένων, αποθηκεύει πίνακες 8x8 τιμών κλίμακας του γκρι για κάθε εικόνα. Το πεδίο (attribute) `target` του συνόλου δεδομένων αποθηκεύει το ψηφίο που αντιπροσωπεύει κάθε εικόνα. Ολοκληρώστε τη συνάρτηση 'plot_mnist_sample()' για να απεικονίσετε σε ένα σχήμα 2x5 ένα δείγμα εικόνας από κάθε μια κατηγορία (κάθε πλαίσιο του 2x5 σχήματος αντιστοιχεί σε ένα ψηφίο/εικόνα μιας κατηγορίας). Η παρακάτω εικόνα δίνει ένα παράδειγμα:\n",
        "<!-- <img src=\"./images/examples_mnist.PNG\" alt=\"drawing\" width=\"400\"/> -->\n",
        "![mnist](images/examples_mnist.PNG) "
      ]
    },
    {
      "cell_type": "code",
      "execution_count": 34,
      "metadata": {
        "id": "vbXpRqO1l4tq"
      },
      "outputs": [],
      "source": [
        "import numpy as np\n",
        "import matplotlib.pyplot as plt\n",
        "from sklearn import datasets"
      ]
    },
    {
      "cell_type": "code",
      "execution_count": 35,
      "metadata": {
        "id": "3PTXSZhWl4tr",
        "colab": {
          "base_uri": "https://localhost:8080/"
        },
        "outputId": "cdbb6e16-1cf5-4a39-ca85-f5ef97f80147"
      },
      "outputs": [
        {
          "output_type": "stream",
          "name": "stdout",
          "text": [
            "Images Shape (1797, 8, 8)\n",
            "Image Data Shape (1797, 64)\n",
            "Label Data Shape (1797,)\n"
          ]
        }
      ],
      "source": [
        "# Download MNIST Dataset from Sklearn\n",
        "digits = datasets.load_digits()\n",
        "\n",
        "# Print to show there are 1797 images (8 by 8)\n",
        "print(\"Images Shape\" , digits.images.shape)\n",
        "\n",
        "# Print to show there are 1797 image data (8 by 8 images for a dimensionality of 64)\n",
        "print(\"Image Data Shape\" , digits.data.shape)\n",
        "\n",
        "# Print to show there are 1797 labels (integers from 0-9)\n",
        "print(\"Label Data Shape\", digits.target.shape)"
      ]
    },
    {
      "cell_type": "code",
      "execution_count": 36,
      "metadata": {
        "id": "p43geFB4l4tr"
      },
      "outputs": [],
      "source": [
        "def plot_mnist_sample(digits):\n",
        "    \"\"\"\n",
        "    This function plots a sample image for each category,\n",
        "    The result is a figure with 2x5 grid of images.\n",
        "    \n",
        "    \"\"\"\n",
        "    plt.figure()\n",
        "    \n",
        "    image0 = digits.images[0]#take the 1 image\n",
        "    image1 = digits.images[1]#take the 2 image\n",
        "    image2 = digits.images[2]#take the 3 image\n",
        "    image3 = digits.images[3]#take the 4 image\n",
        "    image4 = digits.images[4]#take the 5 image\n",
        "    image5 = digits.images[5]#take the 6 image\n",
        "    image6 = digits.images[6]#take the 7 image\n",
        "    image7 = digits.images[7]#take the 8 image\n",
        "    image8 = digits.images[8]#take the 9 image\n",
        "    image9 = digits.images[9]#take the 10 image     \n",
        " \n",
        "    pl = plt.subplot(251) #we make a subplot with with 2 rows and 5 columns\n",
        " # it will be the first image\n",
        "    plt.tick_params(left=False)#it will not show the y axis\n",
        "    plt.tick_params(bottom=False)#it will not show the x axis\n",
        "    plt.subplots_adjust(hspace = 0.5)#it sets the space between subplots at 0.5\n",
        "    plt.axis('off')#not to show axes\n",
        "    pl.imshow(image0, cmap='gray')#show the image with gray color\n",
        "    plt.title(\"Train: 0\")#adds title in image\n",
        "\n",
        "\n",
        "    pl1 = plt.subplot(252)#we make a subplot with with 2 rows and 5 columns\n",
        " # it will be the second image\n",
        "    plt.tick_params(left=False)#it will not show the y axis\n",
        "    plt.tick_params(bottom=False)#it will not show the x axis\n",
        "    plt.subplots_adjust(hspace = 0.5)#it sets the space between subplots at 0.5\n",
        "    plt.axis('off')#not to show axes\n",
        "    pl1.imshow(image1, cmap='gray')#show the image with gray color\n",
        "    plt.title(\"Train: 1\")#adds title in image\n",
        "\n",
        "    pl2 = plt.subplot(253)#we make a subplot with with 2 rows and 5 columns\n",
        " # it will be the third image\n",
        "    plt.tick_params(left=False)#it will not show the y axis\n",
        "    plt.tick_params(bottom=False)#it will not show the x axis\n",
        "    plt.subplots_adjust(hspace = 0.5)#it sets the space between subplots at 0.5\n",
        "    plt.axis('off')#not to show axes\n",
        "    pl2.imshow(image2, cmap='gray')#show the image with gray color\n",
        "    plt.title(\"Train: 2\")#adds title in image\n",
        "\n",
        "    pl3 = plt.subplot(254)#we make a subplot with with 2 rows and 5 columns\n",
        " # it will be the fourth image\n",
        "    plt.tick_params(left=False)#it will not show the y axis\n",
        "    plt.tick_params(bottom=False)#it will not show the x axis\n",
        "    plt.subplots_adjust(hspace = 0.5)#it sets the space between subplots at 0.5\n",
        "    plt.axis('off')#not to show axes\n",
        "    pl3.imshow(image3, cmap='gray')#show the image with gray color\n",
        "    plt.title(\"Train: 3\")#adds title in image\n",
        "\n",
        "    pl4 = plt.subplot(255)#we make a subplot with with 2 rows and 5 columns\n",
        " # it will be the fifth image\n",
        "    plt.tick_params(left=False)#it will not show the y axis\n",
        "    plt.tick_params(bottom=False)#it will not show the x axis\n",
        "    plt.subplots_adjust(hspace = 0.5)#it sets the space between subplots at 0.5\n",
        "    plt.axis('off')#not to show axes\n",
        "    pl4.imshow(image4, cmap='gray')#show the image with gray color\n",
        "    plt.title(\"Train: 4\")#adds title in image\n",
        "\n",
        "    pl5 = plt.subplot(256)#we make a subplot with with 2 rows and 5 columns\n",
        " # it will be the sixth image\n",
        "    plt.tick_params(left=False)#it will not show the y axis\n",
        "    plt.tick_params(bottom=False)#it will not show the x axis\n",
        "    plt.subplots_adjust(hspace = 0.5)#it sets the space between subplots at 0.5\n",
        "    plt.axis('off')#not to show axes\n",
        "    pl5.imshow(image5, cmap='gray')#show the image with gray color\n",
        "    plt.title(\"Train: 5\")#adds title in image\n",
        "\n",
        "    pl6 = plt.subplot(257)#we make a subplot with with 2 rows and 5 columns\n",
        " # it will be the seventh image\n",
        "    plt.tick_params(left=False)#it will not show the y axis\n",
        "    plt.tick_params(bottom=False)#it will not show the x axis\n",
        "    plt.subplots_adjust(hspace = 0.5)#it sets the space between subplots at 0.5\n",
        "    plt.axis('off')#not to show axes\n",
        "    pl6.imshow(image6, cmap='gray')#show the image with gray color\n",
        "    plt.title(\"Train: 6\")#adds title in image\n",
        "\n",
        "    pl7 = plt.subplot(258)#we make a subplot with with 2 rows and 5 columns\n",
        " # it will be the eigth image\n",
        "    plt.tick_params(left=False)#it will not show the y axis\n",
        "    plt.tick_params(bottom=False)#it will not show the x axis\n",
        "    plt.subplots_adjust(hspace = 0.5)#it sets the space between subplots at 0.5\n",
        "    plt.axis('off')#not to show axes\n",
        "    pl7.imshow(image7, cmap='gray')#show the image with gray color\n",
        "    plt.title(\"Train: 7\")#adds title in image\n",
        "\n",
        "    pl8 = plt.subplot(259)#we make a subplot with with 2 rows and 5 columns\n",
        " # it will be the ninth image\n",
        "    plt.tick_params(left=False)#it will not show the y axis\n",
        "    plt.tick_params(bottom=False)#it will not show the x axis\n",
        "    plt.subplots_adjust(hspace = 0.5)#it sets the space between subplots at 0.5\n",
        "    plt.axis('off')#not to show axes\n",
        "    pl8.imshow(image8, cmap='gray')#show the image with gray color\n",
        "    plt.title(\"Train: 8\")#adds title in image\n",
        "\n",
        "    pl9 = plt.subplot(2, 5, 10)#we make a subplot with with 2 rows and 5 columns\n",
        " # it will be the tenth image\n",
        "    plt.tick_params(left=False)#it will not show the y axis\n",
        "    plt.tick_params(bottom=False)#it will not show the x axis\n",
        "    plt.subplots_adjust(hspace = 0.5)#it sets the space between subplots at 0.5\n",
        "    plt.axis('off')#not to show axes\n",
        "    pl9.imshow(image9, cmap='gray')#show the image with gray color\n",
        "    plt.title(\"Train: 9\")#adds title in image\n",
        "\n",
        "    plt.show()#shows the plot"
      ]
    },
    {
      "cell_type": "code",
      "execution_count": 37,
      "metadata": {
        "id": "xEj8kOdul4tr",
        "colab": {
          "base_uri": "https://localhost:8080/",
          "height": 366
        },
        "outputId": "b0d869d4-b208-43fe-f97d-7b54f6e27174"
      },
      "outputs": [
        {
          "output_type": "display_data",
          "data": {
            "text/plain": [
              "<Figure size 640x480 with 10 Axes>"
            ],
            "image/png": "[encoded data removed]"
          },
          "metadata": {}
        }
      ],
      "source": [
        "# PLOT CODE: DO NOT CHANGE\n",
        "# This code is for you to plot the results.\n",
        "\n",
        "plot_mnist_sample(digits)"
      ]
    },
    {
      "cell_type": "markdown",
      "metadata": {
        "id": "sD68VE3pl4ts"
      },
      "source": [
        "### Ζήτημα 1.3: Αναγνώριση χειρόγραφων ψηφίων με Sklearn [4 μονάδες]"
      ]
    },
    {
      "cell_type": "markdown",
      "metadata": {
        "id": "W3ctL_Gwl4ts"
      },
      "source": [
        "Ένα από τα πιο ενδιαφέροντα πράγματα σχετικά με τη βιβλιοθήκη Sklearn είναι ότι παρέχει έναν εύκολο τρόπο δημιουργίας και κλήσης/χρήσης διαφορετικών μοντέλων. Σε αυτό το μέρος της άσκησης, θα αποκτήσετε εμπειρία με τα μοντέλα ταξινόμησης `LogisticRegressionClassifier` (ταξινόμηση με λογιστική παλινδρόμηση) και `kNNCalssifier` (ταξινόμηση με τη μέθοδο κ-κοντινότερων γειτόνων).\n",
        "\n",
        "Ακολουθούν αρχικά 2 βοηθητικές ρουτίνες: 1) μια *ρουτίνα δημιουργίας* mini-batches (παρτίδων) δεδομένων εκπαίδευσης και ελέγχου, αντίστοιχα, 2) μια *ρουτίνα ελέγχου* του εκάστοτε ταξινομητή στις παρτίδες δεδομένων (train/test): α) RandomClassifier(), β) LogisticRegressionClassifier(), γ) kNNClassifier καθώς και των ταξινομητών των ζητημάτων 1.4, 1.5, 1.6 και 2.2, 2.4, 2.5. Στη συνέχεια η συνάρτηση train_test_split() διαχωρίζει το σύνολο δεδομένων σε δεδομένα μάθησης (training set: <X_train, y_train>) και ελέγχου (test set: <X_test, y_test>).\n",
        "\n",
        "Ο κώδικας που ακολουθεί στη συνέχεια ορίζει κάποιες συναρτήσεις/μεθόδους για 3 ταξινομητές: 2 για τον RandomClassifier() και 3 μεθόδους για τους ταξινομητές LogisticRegressionClassifier() και kNNClassifier(). Οι 2 τελευταίες κλάσσεις έχουν μια μέθοδο __init__ για αρχικοποίηση, μια μέθοδο **train** για την εκπαίδευση του μοντέλου και μια μέθοδο __call__ για την πραγματοποίηση προβλέψεων. Πρέπει να συμπληρώσετε τα μέρη κώδικα που λείπουν από τις κλάσεις LogisticRegressionClassifier και kNNClassifier, χρησιμοποιώντας τις υλοποιήσεις `LogisticRegression` και `KNeighborsClassifier` από το Sklearn."
      ]
    },
    {
      "cell_type": "code",
      "execution_count": 38,
      "metadata": {
        "id": "bDZ8BK3Ol4ts"
      },
      "outputs": [],
      "source": [
        "# DO NOT CHANGE\n",
        "#### Some helper functions are given below####\n",
        "def DataBatch(data, label, batchsize, shuffle=True):\n",
        "    \"\"\"\n",
        "    This function provides a generator for batches of data that \n",
        "    yields data (batchsize, 3, 32, 32) and labels (batchsize)\n",
        "    if shuffle, it will load batches in a random order\n",
        "    \"\"\"\n",
        "    n = data.shape[0]\n",
        "    if shuffle:\n",
        "        index = np.random.permutation(n)\n",
        "    else:\n",
        "        index = np.arange(n)\n",
        "    for i in range(int(np.ceil(n/batchsize))):\n",
        "        inds = index[i*batchsize : min(n,(i+1)*batchsize)]\n",
        "        yield data[inds], label[inds]\n",
        "\n",
        "def test(testData, testLabels, classifier):\n",
        "    \"\"\"\n",
        "    Call this function to test the accuracy of a classifier\n",
        "    \"\"\"\n",
        "    batchsize=50\n",
        "    correct=0.\n",
        "    for data,label in DataBatch(testData,testLabels,batchsize,shuffle=False):\n",
        "        prediction = classifier(data)\n",
        "        correct += np.sum(prediction==label)\n",
        "    return correct/testData.shape[0]*100"
      ]
    },
    {
      "cell_type": "code",
      "execution_count": 39,
      "metadata": {
        "id": "QQ0N2RCZl4tt"
      },
      "outputs": [],
      "source": [
        "# DO NOT CHANGE\n",
        "# Split data into 90% train and 10% test subsets\n",
        "from sklearn.model_selection import train_test_split\n",
        "\n",
        "X_train, X_test, y_train, y_test = train_test_split(\n",
        "    digits.images.reshape((len(digits.images), -1)), \n",
        "    digits.target, test_size=0.1, shuffle=False)"
      ]
    },
    {
      "cell_type": "code",
      "execution_count": 40,
      "metadata": {
        "id": "m6JnXh3jl4tt"
      },
      "outputs": [],
      "source": [
        "from sklearn.linear_model import LogisticRegression\n",
        "from sklearn.neighbors import KNeighborsClassifier\n",
        "\n",
        "class RandomClassifier():\n",
        "    \"\"\"\n",
        "    This is a sample classifier. \n",
        "    given an input it outputs a random class\n",
        "    \"\"\"\n",
        "    def __init__(self, classes=10):\n",
        "        self.classes=classes\n",
        "    def __call__(self, x):\n",
        "        return np.random.randint(self.classes, size=x.shape[0])\n",
        "    \n",
        "class LogisticRegressionClassifier():\n",
        "    def __init__(self, sol='liblinear'):\n",
        "        \"\"\"\n",
        "        Initialize Logistic Regression model.\n",
        "        \n",
        "        Inputs:\n",
        "        sol: Solver method that the Logistic Regression model would use \n",
        "        for optimization\n",
        "        \"\"\"\n",
        "        \"\"\" ==========\n",
        "        YOUR CODE HERE\n",
        "        ========== \"\"\"\n",
        "        self.sol=sol#initialize the solver method \n",
        "        self.lrc=0#initialize the logistic regression classifier \n",
        "#so in train function to store there the trained model     \n",
        "        \n",
        "    def train(self, trainData, trainLabels):\n",
        "        \"\"\"\n",
        "        Train your model with image data and corresponding labels.\n",
        "        \n",
        "        Inputs:\n",
        "        trainData: Training images (N,64)\n",
        "        trainLabels: Labels (N,)\n",
        "        \"\"\"\n",
        "        \"\"\" ==========\n",
        "        YOUR CODE HERE\n",
        "        ========== \"\"\"\n",
        "        log=LogisticRegression(solver=self.sol,random_state=0)\n",
        "#we call the LogisticRegression function with parameters\n",
        "#the solver method and random state 0 to ensure that the result is \n",
        "#not random    \n",
        "        tr=log.fit(trainData,trainLabels)#fit the model according to \n",
        "        #the training data\n",
        "        self.lrc = tr#set the logistic regression classifier to the given\n",
        "        \n",
        "    def __call__(self, x):\n",
        "        \"\"\"\n",
        "        Predict the trained model on test data.\n",
        "\n",
        "        Inputs:\n",
        "        x: Test images (N,64)\n",
        "\n",
        "        Returns:\n",
        "        predicted labels (N,)\n",
        "        \"\"\"\n",
        "        \"\"\" ==========\n",
        "        YOUR CODE HERE\n",
        "        ========== \"\"\"\n",
        "        testim=x\n",
        "        pred=self.lrc.predict(testim)#Predict class labels for samples \n",
        "#in testing for logistic regression classifier    \n",
        "        return pred#return the class labels\n",
        "    \n",
        "class kNNClassifier():\n",
        "    def __init__(self, k=3, algorithm='brute'):\n",
        "        \"\"\"\n",
        "        Initialize KNN model.\n",
        "        \n",
        "        Inputs:\n",
        "        k: number of neighbors involved in voting\n",
        "        algorithm: Algorithm used to compute nearest neighbors\n",
        "        \"\"\"\n",
        "        \"\"\" ==========\n",
        "        YOUR CODE HERE\n",
        "        ========== \"\"\"\n",
        "        self.k=k#initialize k\n",
        "        self.knnc=0#initialize the kNNClassifier\n",
        "#so in train function to store there the trained model  \n",
        "        self.algorithm=algorithm#initialize the algorithm\n",
        "        \n",
        "    def train(self, trainData, trainLabels):\n",
        "        \"\"\"\n",
        "        Train your model with image data and corresponding labels.\n",
        "        \n",
        "        Inputs:\n",
        "        trainData: Training images (N,64)\n",
        "        trainLabels: Labels (N,)\n",
        "        \"\"\"\n",
        "        \"\"\" ==========\n",
        "        YOUR CODE HERE\n",
        "        ========== \"\"\"\n",
        "        kn=KNeighborsClassifier(algorithm=self.algorithm,n_neighbors=self.k)\n",
        "#we call the kNNClassifier function with parameters\n",
        "#the algorithm used to compute nearest neighbors and the number of neighbors \n",
        "#involved in voting\n",
        "        tr = kn.fit(trainData,trainLabels)#fit the model according to \n",
        "        #the training data\n",
        "        self.knnc =tr#set the kNNClassifier to the given\n",
        "        \n",
        "    def __call__(self, x):\n",
        "        \"\"\"\n",
        "        Predict the trained model on test data.\n",
        "\n",
        "        Inputs:\n",
        "        x: Test images (N,64)\n",
        "\n",
        "        Returns:\n",
        "        predicted labels (N,)\n",
        "        \"\"\"\n",
        "        \"\"\" ==========\n",
        "        YOUR CODE HERE\n",
        "        ========== \"\"\"\n",
        "        testim=x\n",
        "        pred=self.knnc.predict(testim)#Predict class labels for samples\n",
        "# in testing for kNNClassifier\n",
        "        return pred #return the class labels    "
      ]
    },
    {
      "cell_type": "code",
      "execution_count": 41,
      "metadata": {
        "id": "ZQ9k9kw-l4tt",
        "colab": {
          "base_uri": "https://localhost:8080/"
        },
        "outputId": "dea3e7e0-4daf-4278-dcfb-6abc61188efe"
      },
      "outputs": [
        {
          "output_type": "stream",
          "name": "stdout",
          "text": [
            "Random classifier accuracy: 14.444444\n"
          ]
        }
      ],
      "source": [
        "# TEST CODE: DO NOT CHANGE\n",
        "randomClassifierX = RandomClassifier()\n",
        "print('Random classifier accuracy: %f'%test(X_test, y_test, randomClassifierX))"
      ]
    },
    {
      "cell_type": "code",
      "execution_count": 42,
      "metadata": {
        "id": "tOGbN8GDl4tu",
        "colab": {
          "base_uri": "https://localhost:8080/"
        },
        "outputId": "a24b17ed-f651-412b-feb6-48061bbe6d53"
      },
      "outputs": [
        {
          "output_type": "stream",
          "name": "stdout",
          "text": [
            "Logistic Regression Classifier classifier accuracy: 93.888889\n"
          ]
        }
      ],
      "source": [
        "# TEST CODE: DO NOT CHANGE\n",
        "# TEST LogisticRegressionClassifier\n",
        "\n",
        "lrClassifierX = LogisticRegressionClassifier()\n",
        "lrClassifierX.train(X_train, y_train)\n",
        "print ('Logistic Regression Classifier classifier accuracy: %f'\n",
        "%test(X_test, y_test, lrClassifierX))"
      ]
    },
    {
      "cell_type": "code",
      "execution_count": 43,
      "metadata": {
        "id": "WN3IyTafl4tu",
        "colab": {
          "base_uri": "https://localhost:8080/"
        },
        "outputId": "23430b77-80dd-4d1c-e6ca-0778466f4019"
      },
      "outputs": [
        {
          "output_type": "stream",
          "name": "stdout",
          "text": [
            "k-NN Classifier accuracy: 96.666667\n"
          ]
        }
      ],
      "source": [
        "# TEST kNNClassifier\n",
        "\"\"\" ==========\n",
        "YOUR CODE HERE\n",
        "========== \"\"\"\n",
        "knnClassifierX = kNNClassifier()#create object kNNClassifier \n",
        "knnClassifierX.train(X_train, y_train)#train the object \n",
        "print('k-NN Classifier accuracy: %f' % test(X_test, y_test, knnClassifierX))\n"
      ]
    },
    {
      "cell_type": "markdown",
      "metadata": {
        "id": "jt39SvrEl4tv"
      },
      "source": [
        "### Ζήτημα 1.4: Πίνακας Σύγχυσης [4 μονάδες]"
      ]
    },
    {
      "cell_type": "markdown",
      "metadata": {
        "id": "9jm0Zmzcl4tv"
      },
      "source": [
        "Ένας πίνακας σύγχυσης είναι ένας 2Δ πίνακας που χρησιμοποιείται συχνά για να περιγράψει την απόδοση ενός μοντέλου ταξινόμησης σε ένα σύνολο δεδομένων ελέγχου/δοκιμής (test data) για τα οποία είναι γνωστές οι πραγματικές τιμές (known labels). Εδώ θα υλοποιήσετε τη συνάρτηση που υπολογίζει τον πίνακα σύγχυσης για έναν ταξινομητή. Ο πίνακας (M) πρέπει να είναι $n \\times n$ όπου $n$ είναι ο αριθμός των κλάσεων/κατηγοριών. Η καταχώριση `M[i,j]` πρέπει να περιέχει το ποσοστό/λόγο των εικόνων της κατηγορίας `i` που ταξινομήθηκε ως κατηγορία `j`. Αν οι καταχωρήσεις `M[i,j]` έχουν υπολογιστεί σωστά, τότε τα στοιχεία `M[k,j]` κατά μήκος μιας γραμμής $k$ για $j \\neq k$ (εκτός της κύριας διαγωνίου) αναμένεται να αντιστοιχούν σε \"ψευδώς αρνητικές\" ταξινομήσεις (false negatives), ενώ τα στοιχεία `M[i,k]` κατά μήκος μιας στήλης $k$ για $i \\neq k$ (εκτός της κύριας διαγωνίου) αναμένεται να αντιστοιχούν σε \"ψευδώς θετικές\" ταξινομήσεις (false positives). Το ακόλουθο παράδειγμα δείχνει τον πίνακα σύγχυσης για τον `RandomClassifier` ταξινομητή. Ο στόχος σας είναι να σχεδιάσετε τα αποτελέσματα για τον `LogisticRegressionClassifier` και τον `kNNClassifier` ταξινομητή.\n",
        "\n",
        "<!-- <img src=\"./images/eg_confusion.PNG\" alt=\"drawing\" width=\"250\"/> -->\n",
        "![confusion](images/eg_confusion.PNG) "
      ]
    },
    {
      "cell_type": "code",
      "execution_count": 44,
      "metadata": {
        "id": "HP43z3lOl4tv"
      },
      "outputs": [],
      "source": [
        "from tqdm import tqdm\n",
        "\n",
        "def Confusion(testData, testLabels, classifier):\n",
        "    batchsize=50\n",
        "    correct=0\n",
        "    M=np.zeros((10,10))\n",
        "    num=testData.shape[0]/batchsize\n",
        "    count=0\n",
        "    acc=0\n",
        "    \n",
        "    for data,label in tqdm(DataBatch(testData,testLabels,batchsize,\n",
        "      shuffle=False),total=len(testData)//batchsize):\n",
        "        \"\"\" ==========\n",
        "        YOUR CODE HERE\n",
        "        ========== \"\"\"\n",
        "# in for we iterate the data and labels in batches on order to process them    \n",
        "        ones=np.ones((10,10))#ones is an array with the same dimensions with M \n",
        "#used to increment the elements of M\n",
        "        eq=np.array_equal(classifier.__call__(data), label)#it compares the \n",
        "        #labels that\n",
        "#were perdicted from the classifier with the labels for the this batch and\n",
        "#the result is kept in eq\n",
        "        correct = np.count_nonzero(eq)+correct# we count how many predictions\n",
        "    #are correct\n",
        "          \n",
        "        for i in range(len(label)):#iterate the label array\n",
        "            lb = label[i]#take every label \n",
        "            on=ones[lb, classifier.__call__(data)[i]]\n",
        "            M[lb, classifier.__call__(data)[i]] +=on\n",
        "#updates the confusion matrix. it increments the count in the M      \n",
        "        count += np.size(label)# keeps how many elements are in label array  \n",
        "    for x in range(len(M)):#iterate M\n",
        "        sumofr = 0#initialize it at 0\n",
        "        for y in M[x]:#iterate M\n",
        "            sumofr = y+sumofr#calculates the sum of the elements of M in this row\n",
        "# this row and keeps the result in \n",
        "        if sumofr == 0:#checks if is 0\n",
        "            continue#we skip\n",
        "        else:\n",
        "#there were elements that are not 0 in this row.there are predictions\n",
        "# for this true label     \n",
        "            M[x] /= sumofr#every element in the row is normalized \n",
        "            #of the rows sum \n",
        "# Calculate accuracy\n",
        "  # acc = correct / count * 100.0\n",
        "    acc = correct / count * 100.0\n",
        "    return M, acc\n",
        "    \n",
        "def VisualizeConfussion(M):\n",
        "    plt.figure(figsize=(14, 6))\n",
        "    plt.imshow(M)\n",
        "    plt.show()\n",
        "    print(np.round(M,2))"
      ]
    },
    {
      "cell_type": "code",
      "execution_count": 45,
      "metadata": {
        "id": "suvefA82l4tv",
        "colab": {
          "base_uri": "https://localhost:8080/",
          "height": 713
        },
        "outputId": "16c0a2fb-953e-4e95-c3e5-091044e08e3b"
      },
      "outputs": [
        {
          "output_type": "stream",
          "name": "stderr",
          "text": [
            "4it [00:00, 72.31it/s]               \n"
          ]
        },
        {
          "output_type": "display_data",
          "data": {
            "text/plain": [
              "<Figure size 1400x600 with 1 Axes>"
            ],
            "image/png": "[encoded data removed]"
          },
          "metadata": {}
        },
        {
          "output_type": "stream",
          "name": "stdout",
          "text": [
            "[[1.   0.   0.   0.   0.   0.   0.   0.   0.   0.  ]\n",
            " [0.   0.89 0.   0.   0.05 0.   0.   0.   0.05 0.  ]\n",
            " [0.   0.   1.   0.   0.   0.   0.   0.   0.   0.  ]\n",
            " [0.   0.   0.   0.67 0.   0.11 0.   0.   0.22 0.  ]\n",
            " [0.   0.   0.   0.   0.9  0.   0.   0.   0.   0.1 ]\n",
            " [0.   0.   0.   0.   0.   1.   0.   0.   0.   0.  ]\n",
            " [0.   0.   0.   0.   0.   0.   1.   0.   0.   0.  ]\n",
            " [0.   0.   0.   0.   0.   0.   0.   1.   0.   0.  ]\n",
            " [0.   0.   0.   0.   0.   0.   0.   0.   1.   0.  ]\n",
            " [0.   0.   0.   0.06 0.   0.   0.   0.   0.   0.94]]\n"
          ]
        }
      ],
      "source": [
        "# TEST/PLOT CODE: DO NOT CHANGE\n",
        "# TEST LogisticRegressionClassifier\n",
        "\n",
        "M,acc = Confusion(X_test, y_test, lrClassifierX)\n",
        "VisualizeConfussion(M)"
      ]
    },
    {
      "cell_type": "code",
      "execution_count": 47,
      "metadata": {
        "id": "YWZFcKjal4tw",
        "colab": {
          "base_uri": "https://localhost:8080/",
          "height": 713
        },
        "outputId": "bcdf6fd8-9c90-4b29-9680-f9367bf72e2a"
      },
      "outputs": [
        {
          "output_type": "stream",
          "name": "stderr",
          "text": [
            "4it [00:01,  2.93it/s]\n"
          ]
        },
        {
          "output_type": "display_data",
          "data": {
            "text/plain": [
              "<Figure size 1400x600 with 1 Axes>"
            ],
            "image/png": "[encoded data removed]"
          },
          "metadata": {}
        },
        {
          "output_type": "stream",
          "name": "stdout",
          "text": [
            "[[1.   0.   0.   0.   0.   0.   0.   0.   0.   0.  ]\n",
            " [0.   1.   0.   0.   0.   0.   0.   0.   0.   0.  ]\n",
            " [0.   0.   1.   0.   0.   0.   0.   0.   0.   0.  ]\n",
            " [0.   0.   0.06 0.89 0.   0.06 0.   0.   0.   0.  ]\n",
            " [0.   0.   0.   0.   0.95 0.   0.   0.   0.   0.05]\n",
            " [0.   0.   0.   0.   0.   1.   0.   0.   0.   0.  ]\n",
            " [0.   0.   0.   0.   0.   0.   1.   0.   0.   0.  ]\n",
            " [0.   0.   0.   0.   0.   0.   0.   1.   0.   0.  ]\n",
            " [0.   0.06 0.   0.   0.   0.   0.   0.   0.94 0.  ]\n",
            " [0.   0.   0.   0.06 0.   0.06 0.   0.   0.   0.89]]\n"
          ]
        }
      ],
      "source": [
        "# TEST/PLOT CODE: DO NOT CHANGE\n",
        "# TEST kNNClassifier\n",
        "\n",
        "M,acc = Confusion(X_test, y_test, knnClassifierX)\n",
        "VisualizeConfussion(M)"
      ]
    },
    {
      "cell_type": "markdown",
      "metadata": {
        "id": "0HnFGSRFl4tw"
      },
      "source": [
        "### Ζήτημα 1.5: κ-Κοντινότεροι Γείτονες (k-Nearest Neighbors/kNN) [7 μονάδες]"
      ]
    },
    {
      "cell_type": "markdown",
      "metadata": {
        "id": "1l8Vxkoil4tw"
      },
      "source": [
        "Για αυτό το πρόβλημα, θα ολοκληρώσετε έναν απλό ταξινομητή kNN χωρίς χρήση του πακέτου Sklearn. Η μέτρηση της απόστασης είναι η Ευκλείδεια απόσταση (L2 norm) στον χώρο των pixel. Μπορείτε να χρησιμοποιήσετε τη συνάρτηση **np.linalg.norm** για να υπολογίσετε την απόσταση. Το $k$ αναφέρεται στον αριθμό των γειτόνων που συμμετέχουν στην ψηφοφορία για την ομάδα/κλάση."
      ]
    },
    {
      "cell_type": "code",
      "execution_count": 48,
      "metadata": {
        "id": "C-D-znLZl4tx"
      },
      "outputs": [],
      "source": [
        "class kNNClassifier_v1_5():\n",
        "    def __init__(self, k=3):\n",
        "        self.k=k\n",
        "\n",
        "    def train(self, trainData, trainLabels):\n",
        "        self.X_train = trainData\n",
        "        self.y_train = trainLabels\n",
        "        \n",
        "    def __call__(self, X):\n",
        "        \"\"\"\n",
        "        Predict the labels for the input data using KNN method.\n",
        "\n",
        "        Inputs:\n",
        "        X: Test images (N,64)\n",
        "\n",
        "        Returns:\n",
        "        predicted labels (N,)\n",
        "        \"\"\"\n",
        "        \"\"\" ==========\n",
        "        YOUR CODE HERE\n",
        "        ========== \"\"\"\n",
        "        pr = np.zeros(len(X), dtype=self.y_train.dtype)#initilization of array \n",
        "#that keeps the predicted labels\n",
        "        knum=self.k\n",
        "        vertex = np.zeros(knum, dtype=int)#initilization of array that keeps\n",
        "#the indices of the k nearest neighbors    \n",
        "        for ii in range(len(X)):\n",
        "            dis=self.X_train - X[ii]\n",
        "            eucdis = np.linalg.norm(dis, axis=1)# finds euclidean distances \n",
        "#between the X_train and the test sample X      \n",
        "            sorteddis= np.zeros(eucdis.shape)#initilization of array that \n",
        "#will keep the sorted distances    \n",
        "            knum=self.k  \n",
        "            counter = 1#is a counter for the k nearest neighbors  \n",
        "            countlb = {}#keeps label counts\n",
        "            cnt=0\n",
        "            vertex = np.zeros(knum, dtype=int)#initilization of array that \n",
        "#keeps the indices of the k nearest neighbors \n",
        "            sorteddis = np.sort(eucdis)#sorts the array with the distances            \n",
        "            for v in range(len(eucdis)):#iterates the indices of eucdis\n",
        "                for z in range(len(eucdis)):#iterates the indices of eucdis\n",
        "                    if eucdis[z] != sorteddis[v]:#if are not equal we skip\n",
        "                        continue\n",
        "                    else:#if the distance at  z is equal with the sorted \n",
        "                    #distance at v\n",
        "                        if (counter-1) == self.k: #if are equal we skip\n",
        "                            continue\n",
        "                        else:  \n",
        "                            kk=self.k - 1\n",
        "                            if kk==(counter-1):\n",
        "                                continue#if are equal we skip\n",
        "                            else:#find indices of the k nearest neighbors\n",
        "                            # in the eucdis\n",
        "                                vertex[counter-1] = z#keep the result in vertex\n",
        "                                counter= 1+counter #increment counter   \n",
        "            counter=counter-1#after the loop descrease the counter\n",
        "        \n",
        "            for lb in (self.y_train[vertex]):#iterate the labels\n",
        "                if lb not in countlb.keys():#if there is not the label\n",
        "#in the countlb      \n",
        "                    countlb[lb] = 1+cnt#takes the value 1\n",
        "                else:\n",
        "                    countlb[lb]= 1+countlb[lb]#increment by 1\n",
        " #we count with this way the occurrences of every label            \n",
        "            max = -9999\n",
        "            maxlb=0\n",
        "            for l in countlb:#iterate the countlb\n",
        "                counts = countlb[l]\n",
        "                if counts<=max:\n",
        "                    continue\n",
        "                else:#we search for label with max count\n",
        "                    max = counts\n",
        "                    maxlb = l\n",
        "            pr[ii] = maxlb#assign it to pr\n",
        "        return pr        \n",
        "        "
      ]
    },
    {
      "cell_type": "code",
      "execution_count": 49,
      "metadata": {
        "id": "wPVvwhp0l4tx",
        "colab": {
          "base_uri": "https://localhost:8080/"
        },
        "outputId": "b4243b10-a0f3-4680-bb8e-e10fd6dd657e"
      },
      "outputs": [
        {
          "output_type": "stream",
          "name": "stdout",
          "text": [
            "kNN classifier accuracy: 96.666667\n"
          ]
        }
      ],
      "source": [
        "# TEST/PLOT CODE: DO NOT CHANGE\n",
        "# TEST kNNClassifierManual\n",
        "\n",
        "knnClassifierManualX = kNNClassifier_v1_5()\n",
        "knnClassifierManualX.train(X_train, y_train)\n",
        "print('kNN classifier accuracy: %f'%test(X_test, y_test, knnClassifierManualX))"
      ]
    },
    {
      "cell_type": "markdown",
      "metadata": {
        "id": "jZQQIiKPnRQF"
      },
      "source": [
        "### Ζήτημα 1.6: PCA + κ-κοντινότεροι γείτονες (PCA/k-NN) [8 μονάδες] \n",
        "\n",
        "Σε αυτό το ζήτημα θα εφαρμόσετε έναν απλό ταξινομητή kNN, αλλά στον χώρο PCA, δηλαδή όχι τον χώρο των πίξελ, αλλά αυτόν\n",
        "που προκύπτει μετά από ανάλυση σε πρωτεύουσες συνιστώσες των εικόνων του συνόλου εκπαίδευσης (για k=3 και 25 πρωτεύουσες συνιστώσες).\n",
        "\n",
        "Θα πρέπει να υλοποιήσετε μόνοι σας την PCA χρησιμοποιώντας \"Singular Value Decomposition (SVD)\".\n",
        "Η χρήση του `sklearn.decomposition.PCA` ή οποιουδήποτε άλλου πακέτου που υλοποιεί άμεσα μετασχηματισμούς PCA θα οδηγήσει σε μείωση μονάδων.\n",
        "\n",
        "Μπορείτε να χρησιμοποιήσετε την προηγούμενη υλοποίηση του ταξινομητή kNN σε αυτό το ζήτημα.\n",
        "\n",
        "Είναι ο χρόνος ελέγχου για τον ταξινομητή PCA-kNN μεγαλύτερος ή μικρότερος από αυτόν για τον ταξινομητή kNN; Εφόσον διαφέρει, σχολιάστε γιατί στο τέλος της άσκησης."
      ]
    },
    {
      "cell_type": "code",
      "execution_count": 50,
      "metadata": {
        "id": "e06z90dxm7Af",
        "scrolled": true,
        "tags": [],
        "colab": {
          "base_uri": "https://localhost:8080/"
        },
        "outputId": "ceb1bb65-439d-4071-c998-e5d8ea1c056a"
      },
      "outputs": [
        {
          "output_type": "stream",
          "name": "stdout",
          "text": [
            "PCA-kNN classifier accuracy: 75.555556\n"
          ]
        }
      ],
      "source": [
        "def svd(A):\n",
        "    \"\"\" ==========\n",
        "    YOUR CODE HERE\n",
        "    ========== \"\"\"\n",
        "    ATA = np.empty((len(A[0]),len(A[0])))#initilization of ATA\n",
        "    for i in range(len(A[0])):#iterate columns of ATA\n",
        "        for j in range(len(A[0])):#iterate columns of ATA\n",
        "            ATA[i, j] = sum([np.dot(x, y) for (x, y) in zip(A[:, i], A[:, j])])\n",
        "      # ATA = A*(A^T)\n",
        "    eigenvalue = np.linalg.eig(ATA)[0]#eigenvalues of ATA\n",
        "    eigenvector = np.linalg.eig(ATA)[1]#eigenvectors of ATA\n",
        "    ver =[]#it will keep the vertex indices\n",
        "    sortedeg = np.sort(eigenvalue,kind='mergesort')\n",
        "  #sorts the eigenvalues\n",
        "    eg=len(eigenvalue)\n",
        "    for v in range(eg):#iterate the rows of eigenvalues\n",
        "        for j in range(len(eigenvalue)):#iterate the rows of eigenvalues\n",
        "            if sortedeg[v] != eigenvalue[j]:#if are not equal\n",
        "                continue#skip\n",
        "            else:\n",
        "                ver.append(j)#add the index to vertex\n",
        "                break\n",
        "  \n",
        "    ver = ver[::-1]#reverse the vertex array\n",
        "    eigenvalue = eigenvalue[ver]#take the eigenvalues based on vertex \n",
        "    V = eigenvector[:, ver]#V is an array that has the eigenvectors \n",
        "#that refer to the vertex indices\n",
        "    U = np.ones((len(A), len(V[0])))#initilization of U array\n",
        "    singular_values = eigenvalue** 0.5#is the square root of eigenvalues\n",
        "    for i in range(len(V[0])):#iterate columns of V\n",
        "        if singular_values[i] != 0:  # if singular values are not 0\n",
        "            r=sum([np.dot(o, j) for (o, j) in zip(A, V[:, i])])\n",
        "            U[0:, i] = r / singular_values[i]\n",
        "#U is calculated if we find the dot product of A and V and divide it by its\n",
        "# corresponding singular value      \n",
        "        else:\n",
        "            U[0:, i] = 0  # is 0\n",
        "    return U, singular_values, V.T\n",
        "\n",
        "        \n",
        "\n",
        "class PCAKNNClassifer():\n",
        "    def __init__(self, components=25, k=3):\n",
        "        \"\"\"\n",
        "        Initialize PCA kNN classifier\n",
        "\n",
        "        Inputs:\n",
        "        components: number of principal components\n",
        "        k: number of neighbors involved in voting\n",
        "        \"\"\"\n",
        "        \"\"\" ==========\n",
        "        YOUR CODE HERE\n",
        "        ========== \"\"\"\n",
        "        self.components = components#initilixation of components\n",
        "        self.k = k#initilization of k\n",
        "        self.U = 0#initilization of U\n",
        "        self.D =0#initilization of D\n",
        "        self.V = 0#initilization of V\n",
        "        self.meand =0#initilization of mean data\n",
        "        self.trainLabels = 0  #initilization of training labels\n",
        "        self.projectedtr =0 #initilization of training data that are projected\n",
        "        \n",
        "    def train(self, trainData, trainLabels):\n",
        "        \"\"\"\n",
        "        Train your model with image data and corresponding labels.\n",
        "        \n",
        "        Inputs:\n",
        "        trainData: Training images (N,64)\n",
        "        trainLabels: Labels (N,)\n",
        "        \"\"\"\n",
        "        \n",
        "        \"\"\" ==========\n",
        "        YOUR CODE HERE\n",
        "        ========== \"\"\"\n",
        "        datacenter =np.full((len(trainData), len(trainData[0])), 1)\n",
        "#initilization of an array with the same dimensions as trainData    \n",
        "        meand = np.ones(len(trainData[0]))\n",
        "# initilization of an array with the length equal to the number of columns\n",
        "# in trainData    \n",
        "        X_hat = np.array(len(datacenter[0])*[[0] * len(datacenter[0])])\n",
        "#initilization of an array with the same dimensions as datacenter    \n",
        "        covariancem = np.array(len(datacenter[0])*[[0] * len(datacenter[0])])\n",
        "#initilization of an array with the same dimensions as datacenter       \n",
        "        for i, u in enumerate(range(len(trainData[0]))):#iterate the columns \n",
        "        #of trainData\n",
        "            tr = trainData[:, i]\n",
        " # find the mean and we keep it in the meand       \n",
        "            meand[i] = np.mean(tr)\n",
        "        for q, m in enumerate(range(len(trainData))):#iterate the samples \n",
        "        #of trainData\n",
        "            for w, n in enumerate(range(len(trainData[0]))):#iterate the\n",
        "            # features of trainData\n",
        "                dif=trainData[q, w] - meand[w]# find the difference between\n",
        "                # the value in trainData\n",
        "#array and the mean we found for this feature\n",
        "                datacenter[q, w] = dif#assign it to datacenter\n",
        "        sum = 0 # initilization of the sum of the covariance    \n",
        "        for j in range(len(datacenter[0])):#iterate features in datacenter\n",
        "            for k,e in enumerate(range(len(datacenter[0]))):#iterate features\n",
        "            # in datacenter\n",
        "                sum = 0# initilization of the sum of the covariance \n",
        "                for i in range(len(datacenter)):#iterate the samples\n",
        "                # in datacenter\n",
        "                    diff=datacenter[i, j] - meand[j]# find the difference \n",
        "                    #between the value\n",
        "#of datacenter and the mean we found for this feature\n",
        "                    sum= ((datacenter[i, k] - meand[k])*diff)+sum#find the sum  \n",
        "#of covariance\n",
        "                cend=datacenter.shape[0] - 1 #descrese the number of samples \n",
        "                #of datacenter    \n",
        "                covariance = np.divide(sum, cend) #we divide the sum of\n",
        "                # covariance with cend\n",
        "#to find the covariance           \n",
        "                covariancem[j, k] = covariance #we keep the result \n",
        "                #in covariancem\n",
        "        X_hat = covariancem    #take the covariancem  \n",
        "        U, D, V = svd(X_hat)\n",
        "        co=self.components#take the number of components\n",
        "        self.D = D[0:co]# self.D has the first co elements of D\n",
        "        self.U = U[0:, :co]#self.U has the first co columns of U\n",
        "        tran=np.transpose(V)[0:self.components]#take the first components rows\n",
        "        T=tran.T #take the T matrix\n",
        "        self.V = T   #assign it to self.V\n",
        "        self.trainLabels = trainLabels#assign values to self.trainLabels\n",
        "        self.meand = meand#assign values to self.meand\n",
        "        self.projectedtr = np.matmul(datacenter, T) #we multiply the \n",
        "        #datacenter and T \n",
        "    #and self.projectedtr obtains the result\n",
        "        \n",
        "    def __call__(self, x):\n",
        "        \"\"\"\n",
        "        Predict the trained model on test data.\n",
        "\n",
        "        Inputs:\n",
        "        x: Test images (N,64)\n",
        "\n",
        "        Returns:\n",
        "        predicted labels (N,)\n",
        "        \"\"\"\n",
        "        \"\"\" ==========\n",
        "        YOUR CODE HERE\n",
        "        ========== \"\"\"\n",
        "        centeredinput = x - np.expand_dims(self.meand, axis=0)\n",
        "#we substract the input data from the mean to center them   \n",
        "        vpin = np.copy(self.V)#make a copy of V\n",
        "        projectedinput = np.zeros((len(centeredinput), vpin.shape[1]))\n",
        "#initilization of an array to keep the values that are projected    \n",
        "        for q in range(len(centeredinput)):#iterate the rows of centeredinput\n",
        "            for w in range(len(vpin[0])):#iterate the columns of vpin\n",
        "                for k, nm in enumerate(range(len(centeredinput[0]))):#iterte\n",
        "        #the columns of centeredinput\n",
        "                    xcen=centeredinput[q, k]\n",
        "                    res=xcen*vpin[k, w]#multiply the centered data with the\n",
        "                    # eigenvectors\n",
        "                    projectedinput[q, w] = projectedinput[q, w]+res#find the \n",
        "                    #projected values\n",
        "        knum=self.k#keep k\n",
        "        ver =  np.zeros(knum, dtype=int)#initilization of array that keeps\n",
        "#the indices of the k nearest neighbors \n",
        "        pr = np.ones(len(x), dtype=self.trainLabels.dtype)#initilization of  \n",
        "#array that keeps the predicted labels\n",
        "    \n",
        "        for ii in range(len(x)):#iterate x\n",
        "            tr = np.copy(self.projectedtr)#copy of projectedtr\n",
        "            diff = tr - (projectedinput[ii])# finds the difference between\n",
        "            # the training data\n",
        "# and the projected data for this sample\n",
        "        \n",
        "            dif=diff *diff#finds the square \n",
        "            dist = np.sum(dif, axis=1)** (0.5) # finds euclidean distances \n",
        "#it takes the square root of the sum of the differences\n",
        "            sorteddis= np.zeros(dist.shape)\n",
        "            ver =  np.zeros(knum, dtype=int)#initialization of an array to have\n",
        "        # the sorted distances\n",
        "            counter = 1#is a counter for the k nearest neighbors  \n",
        "            countlb = {}#keeps label counts\n",
        "            cnt=0#initiliaze a counter\n",
        "            count=0#initiliaze a counter\n",
        "            ver = np.zeros(knum, dtype=int)# initialization of an array to \n",
        "        #keep the indices of the k nearest neighbors\n",
        "            sorteddis = np.sort(dist)# sorts the distances\n",
        "            countlb = {}#keeps the label counts\n",
        "            for v in range(len(dist)):#iterate rows of dist\n",
        "                for z in range(len(dist)):#iterate rows of dist\n",
        "                    if sorteddis[v] != dist[z]:# ife the sorted distance\n",
        "  #is equal to this current distance\n",
        "                        continue#skip\n",
        "                    else:  \n",
        "                        kk=self.k - 1# takes self.k - 1 \n",
        "                        if (counter-1) == kk:#if the counter - 1 is equal to kk\n",
        "                            continue#skip\n",
        "                        else:  \n",
        "                            ver[counter-1] = z#ver has the index of this \n",
        "                            #current distance\n",
        "                            counter = 1+counter#incease counter\n",
        "            counter=counter-1        #decease counter\n",
        "\n",
        "            for lb in self.trainLabels[ver]:#iterate trainLabels\n",
        "                if lb not in countlb:#if there is label\n",
        "                    countlb[lb] = 1+cnt  #takes value 1\n",
        "                else:\n",
        "                    countlb[lb]= 1+countlb[lb]#increment it  \n",
        "            max = -999#takes a small value \n",
        "            maxlb = 0# initialization of the maximum label \n",
        "\n",
        "            for l in countlb:#iterate the countlb\n",
        "                counts = countlb[l]#takes the count for the current label\n",
        "                if counts<=max:\n",
        "                    continue#skip\n",
        "                else:#we search for label with max count\n",
        "                    max = counts#the maximum count takes the value of the \n",
        "                    #current count\n",
        "                    maxlb = l#maximum label is l\n",
        "\n",
        "            pr[ii] = maxlb#prediction array pr for this sample takes the\n",
        "            # max label\n",
        "    \n",
        "        return pr#return the prediction array\n",
        "    \n",
        "\n",
        "# test your classifier with only the first 100 training examples (use this\n",
        "# while debugging)\n",
        "pcaknnClassiferX = PCAKNNClassifer()\n",
        "pcaknnClassiferX.train(X_train[:100], y_train[:100])\n",
        "print ('PCA-kNN classifier accuracy: %f'%test(X_test, y_test, pcaknnClassiferX))"
      ]
    },
    {
      "cell_type": "code",
      "execution_count": 52,
      "metadata": {
        "id": "eSbD_cdeoOY5",
        "scrolled": false,
        "colab": {
          "base_uri": "https://localhost:8080/",
          "height": 730
        },
        "outputId": "00a1749c-9e39-4953-e738-0c06615c8ff5"
      },
      "outputs": [
        {
          "output_type": "stream",
          "name": "stderr",
          "text": [
            "4it [01:06, 16.56s/it]\n"
          ]
        },
        {
          "output_type": "stream",
          "name": "stdout",
          "text": [
            "PCA-kNN classifier accuracy: 90.000000\n"
          ]
        },
        {
          "output_type": "display_data",
          "data": {
            "text/plain": [
              "<Figure size 1400x600 with 1 Axes>"
            ],
            "image/png": "[encoded data removed]"
          },
          "metadata": {}
        },
        {
          "output_type": "stream",
          "name": "stdout",
          "text": [
            "[[1.   0.   0.   0.   0.   0.   0.   0.   0.   0.  ]\n",
            " [0.   0.42 0.   0.   0.   0.   0.16 0.   0.37 0.05]\n",
            " [0.   0.   0.82 0.18 0.   0.   0.   0.   0.   0.  ]\n",
            " [0.   0.   0.   0.44 0.   0.28 0.   0.   0.28 0.  ]\n",
            " [0.   0.   0.   0.   0.85 0.   0.05 0.   0.   0.1 ]\n",
            " [0.   0.   0.   0.   0.22 0.72 0.   0.   0.   0.06]\n",
            " [0.   0.06 0.   0.   0.   0.   0.94 0.   0.   0.  ]\n",
            " [0.   0.   0.   0.   0.05 0.   0.   0.95 0.   0.  ]\n",
            " [0.   0.   0.06 0.   0.   0.29 0.   0.   0.53 0.12]\n",
            " [0.06 0.   0.   0.   0.   0.06 0.   0.   0.   0.89]]\n"
          ]
        }
      ],
      "source": [
        "# test your classifier with all the training examples\n",
        "pcaknnClassifer = PCAKNNClassifer()\n",
        "pcaknnClassifer.train(X_train, y_train)\n",
        "# display confusion matrix for your PCA KNN classifier with all the\n",
        "# training examples\n",
        "\"\"\" ==========\n",
        "YOUR CODE HERE\n",
        "========== \"\"\"\n",
        "M_pca = Confusion(X_test, y_test, pcaknnClassiferX)[0]#take the \n",
        "#confusion matrix\n",
        "# Display the accuracy and visualize the confusion matrix\n",
        "print('PCA-kNN classifier accuracy: %f'%test(X_test, y_test, pcaknnClassifer))\n",
        "VisualizeConfussion(M_pca)"
      ]
    },
    {
      "cell_type": "markdown",
      "metadata": {
        "id": "iuQfPRnEpM9c"
      },
      "source": [
        "- Σχολιασμός του χρόνου εκτέλεσης PCA-kNN σε σχέση με τον kNN.\n",
        "\n",
        "\"\"\" \n",
        "Ο χρόνος εκτέλεσης του PCA-kNN είναι μεγαλύτερος σε σχέση με τον kNN. Κατά τον PCA-kNN απαιτούνται οι υπολογισμοί ιδιοτιμών, ιδιοδιανυσμάτων πίνακα καθώς και υπολογισμοί άλλων πινάκων (πχ ATA = A*(A^T)) που περιλαμβάνουν πολλαπλασιασμούς πινάκων και άλλες πράξεις που επιβραδύνουν τον χρόνο εκτέλεσης.\n",
        "\"\"\""
      ]
    },
    {
      "cell_type": "markdown",
      "metadata": {
        "id": "R8ol8VCDpV8Q"
      },
      "source": [
        "## Άσκηση 2: Βαθιά Μάθηση [25 μονάδες]\n"
      ]
    },
    {
      "cell_type": "markdown",
      "metadata": {
        "id": "aYf3GsdmpfvS"
      },
      "source": [
        "### Ζήτημα 2.1 Αρχική Εγκατάσταση (απεικόνιση παραδειγμάτων) [1 μονάδα]\n",
        "\n",
        "- **Τοπικά** (jupyter):\n",
        "Ακολουθήστε τις οδηγίες στη διεύθυνση https://pytorch.org/get-started/locally/ για να εγκαταστήσετε την PyΤorch τοπικά στον υπολογιστή σας.\n",
        "Για παράδειγμα, αφού δημιουργήσετε και ενεργοποιήσετε κάποιο εικονικό περιβάλλον anaconda με τις εντολές: π.χ. `(base)$ conda create -n askisi3`, `(base)$ conda activate askisi3`, η εντολή `(askisi3)$ conda install pytorch torchvision torchaudio cpuonly -c pytorch` εγκαθιστά την βιβλιοθήκη \"PyTorch\" σε περιβάλλον Linux/Windows χωρίς GPU υποστήριξη.\n",
        "\n",
        "**Προσοχή** σε αυτό το σημείο, αν τρέχετε την άσκηση τοπικά σε jupyter, εκτός της εγκατάστασης του PyTorch, θα χρειαστούν ξανά και κάποιες βιβλιοθήκες `matplotlib`, `scipy`, `tqdm` και `sklearn` (όπως και στην 1η άσκηση), μέσα στο περιβάλλον 'askisi3', πριν ανοίξετε το jupyter: `(askisi3)$ conda install matplotlib tqdm scipy` και `(askisi3)$ conda install -c anaconda scikit-learn`. Αυτό χρειάζεται διότι σε ορισμένες περιπτώσεις, αφού εγκαταστήσετε τις βιβλιοθήκες που απαιτούνται, πρέπει να εξασφαλίσετε ότι ο *Python Kernel* αναγνωρίζει την προϋπάρχουσα εγκατάσταση (PyTorch, matplotlib, tqdm, κτλ.).\n",
        "Τέλος, χρειάζεται να εγκαταστήσετε το jupyter ή jupyterlab μέσω του περιβάλλοντος conda: `(askisi3)$ conda install jupyter` και μετά να εκτελέσετε `(askisi3)$ jupyter notebook` για να ανοίξετε το jupyter με τη σωστή εγκατάσταση. Αν όλα έχουν γίνει σωστά, θα πρέπει ο *Python Kernel* να βλέπει όλα τα 'modules' που χρειάζεστε στη 2η άσκηση. Διαφορετικά, μπορείτε να εγκαταστήσετε εξ' αρχής όλες τις βιβλιοθήκες, από την αρχή υλοποίησης της 3ης σειράς ασκήσεων, μέσα στο εικονικό περιβάλλον *askisi3* ώστε να μην είναι απαραίτητη εκ νέου η εγκατάσταση των βιβλιοθηκών που θα χρειαστούν στη 2η άσκηση.\n",
        "\n",
        "- **Colab**: **Αν** χρησιμοποιείτε google colab, τότε δεν θα χρειαστεί λογικά κάποιο βήμα εγκατάστασης. Αν ωστόσο σας παρουσιαστεί κάποιο πρόβλημα με απουσία πακέτου, π.χ. \"ModuleNotFoundError - torchvision\", τότε μπορείτε απλώς να το εγκαταστήσετε με χρήση του εργαλείου `pip` εκτελώντας την αντίστοιχη εντολή (π.χ. \"!pip install torchvision\") σε ένα νέο κελί του notebook.\n",
        "\n",
        "Σημείωση: Δεν θα είναι απαραίτητη η χρήση GPU για αυτήν την άσκηση, γι' αυτό μην ανησυχείτε αν δεν έχετε ρυθμίσει την εγκατάσταση με υποστήριξη GPU. Επιπλέον, η εγκατάσταση με υποστήριξη GPU είναι συχνά πιο δύσκολη στη διαμόρφωση, γι' αυτό και προτείνεται να εγκαταστήσετε μόνο την έκδοση CPU. Ο Διδάσκων δεν θα παρέχει καμία υποστήριξη που σχετίζεται με GPU ή την CUDA.\n",
        "\n",
        "Εκτελέστε τις παρακάτω εντολές για να επαληθεύσετε την εγκατάστασή σας (PyTorch)."
      ]
    },
    {
      "cell_type": "code",
      "execution_count": 19,
      "metadata": {
        "id": "nQC44M9Rp1VR",
        "colab": {
          "base_uri": "https://localhost:8080/",
          "height": 0
        },
        "outputId": "4604ecd4-d7e7-4abe-9c03-f591a6f8423d"
      },
      "outputs": [
        {
          "output_type": "stream",
          "name": "stdout",
          "text": [
            "tensor([[0.9225, 0.0079, 0.9172],\n",
            "        [0.4140, 0.1888, 0.1150],\n",
            "        [0.1438, 0.6523, 0.1685],\n",
            "        [0.3467, 0.7699, 0.6627]])\n"
          ]
        }
      ],
      "source": [
        "import scipy\n",
        "import torch.nn as nn\n",
        "import torch.nn.functional as F\n",
        "import torch\n",
        "from torch.autograd import Variable\n",
        "\n",
        "# create a tensor of 4x3 random-valued array\n",
        "x = torch.rand(4, 3)\n",
        "print(x)"
      ]
    },
    {
      "cell_type": "markdown",
      "metadata": {
        "id": "Ai7Lktn5tLBz"
      },
      "source": [
        "Σε αυτή την άσκηση, θα χρησιμοποιήσουμε το πλήρες σύνολο δεδομένων της βάσης δεδομένων MNIST με τις εικόνες ψηφίων 28x28 pixel (60.000 εικόνες εκπαίδευσης, 10.000 εικόνες ελέγχου).\n",
        "\n",
        "Ο κώδικας που ακολουθεί \"κατεβάζει\" το σύνολο δεδομένων MNIST της κλάσης [torchvision.datasets](https://pytorch.org/vision/main/generated/torchvision.datasets.MNIST.html#torchvision.datasets.MNIST), στο φάκελο `mnist` (του root καταλόγου). \n",
        "Μπορείτε να αλλάξετε τον κατάλογο που δείχνει η μεταβλητή `path` στη διαδρομή που επιθυμείτε. Ενδεικτικό `path` σε περιβάλλον Windows: **path = 'C:/Users/user/Υπολογιστική Όραση/assignments/assignment 3/'**. Στην περίπτωση που εργάζεστε μέσω **colab** μπορεί να χρειαστεί η φόρτωση του καταλόγου στο drive, εκτελώντας `from google.colab import drive` και `drive.mount('/content/gdrive')` και μετά θέτοντας π.χ το **path = '/content/gdrive/assignment3/'**.\n",
        "\n",
        "- Θα πρέπει να απεικονίσετε σε ένα σχήμα 2x5 ένα τυχαίο παράδειγμα εικόνας που αντιστοιχεί σε κάθε ετικέτα (κατηγορία) από τα δεδομένα εκπαίδευσης (αντίστοιχα του ζητήματος 1.2)."
      ]
    },
    {
      "cell_type": "code",
      "execution_count": 54,
      "metadata": {
        "scrolled": false,
        "id": "kQXlJ5TAHiNt"
      },
      "outputs": [],
      "source": [
        "import torch\n",
        "import torchvision.datasets as datasets\n",
        "\n",
        "# import additional libs in case not already done in 'askisi 1'\n",
        "import matplotlib.pyplot as plt\n",
        "import numpy as np\n",
        "\n",
        "# Define the dataset directory\n",
        "path = './mnist/'\n",
        "\n",
        "# Load the MNIST training dataset\n",
        "train_dataset = datasets.MNIST(root=path, train=True, download=True)\n",
        "\n",
        "# Extract the images and labels from the training dataset\n",
        "X_train = train_dataset.data.numpy()\n",
        "y_train = train_dataset.targets.numpy()\n",
        "\n",
        "# Load the MNIST testing dataset\n",
        "test_dataset = datasets.MNIST(root=path, train=False, download=True)\n",
        "\n",
        "# Extract the images and labels from the testing dataset\n",
        "X_test = test_dataset.data.numpy()\n",
        "y_test = test_dataset.targets.numpy()\n"
      ]
    },
    {
      "cell_type": "code",
      "execution_count": 55,
      "metadata": {
        "id": "E5tK3MeXN5v2"
      },
      "outputs": [],
      "source": [
        "def plot_mnist_sample_high_res(X_train, y_train):\n",
        "  \"\"\"\n",
        "  This function plots a sample image for each category,\n",
        "  The result is a figure with 2x5 grid of images.\n",
        "  \"\"\"\n",
        "\n",
        "  plt.figure()#create a new figure\n",
        "  idx = 0\n",
        "  for j in range(len(y_train)):#iterate y_train\n",
        "    if y_train[j] == 0:#if is the first\n",
        "      idx = j\n",
        "      image0 = X_train[idx]#take the first image\n",
        "      break  \n",
        "  idx = 0\n",
        "  for j in range(len(y_train)):#iterate y_train\n",
        "    if y_train[j] == 1:#if is the second\n",
        "      idx = j\n",
        "      image1 = X_train[idx]#take the second image\n",
        "      break\n",
        "  idx = 0\n",
        "  for j in range(len(y_train)):#iterate y_train\n",
        "    if y_train[j] == 2:#if is the third\n",
        "      idx = j\n",
        "      image2 = X_train[idx]#take the third image\n",
        "      break\n",
        "  idx = 0\n",
        "  for j in range(len(y_train)):#iterate y_train\n",
        "    if y_train[j] == 3:#if is the fourth\n",
        "      idx = j\n",
        "      image3 = X_train[idx]#take the fourth image\n",
        "      break  \n",
        "  idx = 0\n",
        "  for j in range(len(y_train)):#iterate y_train\n",
        "    if y_train[j] ==4:#if is the fifth\n",
        "      idx = j\n",
        "      image4 = X_train[idx]#take the fifth image\n",
        "      break \n",
        "  idx = 0\n",
        "  for j in range(len(y_train)):#iterate y_train\n",
        "    if y_train[j] == 5:#if is the sixth\n",
        "      idx = j\n",
        "      image5 = X_train[idx]#take the sixth image\n",
        "      break\n",
        "  idx = 0\n",
        "  for j in range(len(y_train)):#iterate y_train\n",
        "    if y_train[j] == 6:#if is the seventh\n",
        "      idx = j\n",
        "      image6 = X_train[idx]#take the seventh image\n",
        "      break \n",
        "  idx = 0\n",
        "  for j in range(len(y_train)):#iterate y_train\n",
        "    if y_train[j] == 7:#if is the eigth\n",
        "      idx = j\n",
        "      image7 = X_train[idx]#take the eigth image\n",
        "      break  \n",
        "  idx = 0\n",
        "  for j in range(len(y_train)):#iterate y_train\n",
        "    if y_train[j] == 8:#if is the ninth\n",
        "      idx = j\n",
        "      image8 = X_train[idx]#take the ninth image\n",
        "      break\n",
        "  idx = 0\n",
        "  for j in range(len(y_train)):#iterate y_train\n",
        "    if y_train[j] == 9:#if is the tenth\n",
        "      idx = j\n",
        "      image9 = X_train[idx]#take the tenth image\n",
        "      break                                \n",
        "\n",
        "  pl = plt.subplot(251)#we make a subplot with with 2 rows and 5 columns\n",
        "   # it will be the first image\n",
        "  plt.tick_params(left=False) #it will not show the y axis \n",
        "  plt.tick_params(bottom=False)#it will not show the x axis\n",
        "  plt.subplots_adjust(hspace = 0.5)#it sets the space between subplots at 0.5\n",
        "  plt.axis('off')#not to show axes\n",
        "  pl.imshow(image0, cmap='gray')#show the image with gray color\n",
        "  plt.title(\"Train: 0\")#adds title in image\n",
        "\n",
        "  pl1 = plt.subplot(252)#we make a subplot with with 2 rows and 5 columns\n",
        "  # it will be the second image\n",
        "  plt.tick_params(left=False)   #it will not show the y axis \n",
        "  plt.tick_params(bottom=False)#it will not show the x axis\n",
        "  plt.subplots_adjust(hspace = 0.5)#it sets the space between subplots at 0.5\n",
        "  plt.axis('off')#not to show axes\n",
        "  pl1.imshow(image1, cmap='gray')#show the image with gray color\n",
        "  plt.title(\"Train: 1\")#adds title in image\n",
        "\n",
        "  pl2 = plt.subplot(253)#we make a subplot with with 2 rows and 5 columns\n",
        "  # it will be the third image\n",
        "  plt.tick_params(left=False)   #it will not show the y axis \n",
        "  plt.tick_params(bottom=False)#it will not show the x axis\n",
        "  plt.subplots_adjust(hspace = 0.5)#it sets the space between subplots at 0.5\n",
        "  plt.axis('off')#not to show axes\n",
        "  pl2.imshow(image2, cmap='gray')#show the image with gray color\n",
        "  plt.title(\"Train: 2\")#adds title in image\n",
        "\n",
        "  pl3 = plt.subplot(254)#we make a subplot with with 2 rows and 5 columns\n",
        "  # it will be the fourth image\n",
        "  plt.tick_params(left=False)   #it will not show the y axis \n",
        "  plt.tick_params(bottom=False)#it will not show the x axis\n",
        "  plt.subplots_adjust(hspace = 0.5)#it sets the space between subplots at 0.5\n",
        "  plt.axis('off')#not to show axes\n",
        "  pl3.imshow(image3, cmap='gray')#show the image with gray color\n",
        "  plt.title(\"Train: 3\")#adds title in image\n",
        "\n",
        "  pl4 = plt.subplot(255)#we make a subplot with with 2 rows and 5 columns\n",
        "  # it will be the fifth image\n",
        "  plt.tick_params(left=False)   #it will not show the y axis \n",
        "  plt.tick_params(bottom=False)#it will not show the x axis\n",
        "  plt.subplots_adjust(hspace = 0.5)#it sets the space between subplots at 0.5\n",
        "  plt.axis('off')#not to show axes\n",
        "  pl4.imshow(image4, cmap='gray')#show the image with gray color\n",
        "  plt.title(\"Train: 4\")#adds title in image\n",
        "\n",
        "  pl5 = plt.subplot(256)#we make a subplot with with 2 rows and 5 columns\n",
        "  # it will be the sixth image\n",
        "  plt.tick_params(left=False)  #it will not show the y axis  \n",
        "  plt.tick_params(bottom=False)#it will not show the x axis\n",
        "  plt.subplots_adjust(hspace = 0.5)#it sets the space between subplots at 0.5\n",
        "  plt.axis('off')#not to show axes\n",
        "  pl5.imshow(image5, cmap='gray')#show the image with gray color\n",
        "  plt.title(\"Train: 5\")#adds title in image\n",
        "\n",
        "  pl6 = plt.subplot(257)#we make a subplot with with 2 rows and 5 columns\n",
        "  # it will be the seventh image\n",
        "  plt.tick_params(left=False)   #it will not show the y axis \n",
        "  plt.tick_params(bottom=False)#it will not show the x axis\n",
        "  plt.subplots_adjust(hspace = 0.5)#it sets the space between subplots at 0.5\n",
        "  plt.axis('off')#not to show axes\n",
        "  pl6.imshow(image6, cmap='gray')#show the image with gray color\n",
        "  plt.title(\"Train: 6\")#adds title in image\n",
        "\n",
        "  pl7 = plt.subplot(258)#we make a subplot with with 2 rows and 5 columns\n",
        "  # it will be the eigth image\n",
        "  plt.tick_params(left=False)   #it will not show the y axis \n",
        "  plt.tick_params(bottom=False)#it will not show the x axis\n",
        "  plt.subplots_adjust(hspace = 0.5)#it sets the space between subplots at 0.5\n",
        "  plt.axis('off')#not to show axes\n",
        "  pl7.imshow(image7, cmap='gray')#show the image with gray color\n",
        "  plt.title(\"Train: 7\")#adds title in image\n",
        "\n",
        "  pl8 = plt.subplot(259)#we make a subplot with with 2 rows and 5 columns\n",
        "  # it will be the ninth image\n",
        "  plt.tick_params(left=False)   #it will not show the y axis \n",
        "  plt.tick_params(bottom=False)#it will not show the x axis\n",
        "  plt.subplots_adjust(hspace = 0.5)#it sets the space between subplots at 0.5\n",
        "  plt.axis('off')#not to show axes\n",
        "  pl8.imshow(image8, cmap='gray')#show the image with gray color\n",
        "  plt.title(\"Train: 8\")#adds title in image\n",
        "\n",
        "  pl9 = plt.subplot(2, 5, 10)#we make a subplot with with 2 rows and 5 columns\n",
        "  # it will be the tenth image\n",
        "  plt.tick_params(left=False)   #it will not show the y axis \n",
        "  plt.tick_params(bottom=False)\n",
        "  plt.subplots_adjust(hspace = 0.5)#it sets the space between subplots at 0.5\n",
        "  plt.axis('off')#not to show axes\n",
        "  pl9.imshow(image9, cmap='gray')#show the image with gray color\n",
        "  plt.title(\"Train: 9\")#adds title in image\n",
        "\n",
        "  plt.show()\n"
      ]
    },
    {
      "cell_type": "code",
      "execution_count": 22,
      "metadata": {
        "id": "BNCBDoFnN8B5",
        "colab": {
          "base_uri": "https://localhost:8080/",
          "height": 366
        },
        "outputId": "4d981a2b-4b21-4613-899a-a4ab2dde0c95"
      },
      "outputs": [
        {
          "output_type": "display_data",
          "data": {
            "text/plain": [
              "<Figure size 640x480 with 10 Axes>"
            ],
            "image/png": "[encoded data removed]"
          },
          "metadata": {}
        }
      ],
      "source": [
        "# PLOT CODE: DO NOT CHANGE\n",
        "# This code is for you to plot the results.\n",
        "\n",
        "plot_mnist_sample_high_res(X_train, y_train)"
      ]
    },
    {
      "cell_type": "markdown",
      "metadata": {
        "id": "6Wu-weDbqEAY"
      },
      "source": [
        "### Ζήτημα 2.2:  Εκπαίδευση Νευρωνικού Δικτύου με PyTorch [6 μονάδες]\n",
        "Ακολουθεί ένα τμήμα βοηθητικού κώδικα για την εκπαίδευση των βαθιών νευρωνικών δικτύων (Deep Neural Networks - DNN).\n",
        "\n",
        "- Ολοκληρώστε τη συνάρτηση train_net() για το παρακάτω DNN.\n",
        "\n",
        "Θα πρέπει να συμπεριλάβετε τις λειτουργίες της διαδικασίας της εκπαίδευσης σε αυτή τη συνάρτηση. Αυτό σημαίνει ότι για μια παρτίδα/υποσύνολο δεδομένων (batch μεγέθους 50) πρέπει να αρχικοποιήσετε τις παραγώγους, να υλοποιήσετε τη διάδοση προς τα εμπρός της πληροφορίας (forward propagation), να υπολογίσετε το σφάλμα εκτίμησης, να κάνετε οπισθοδιάδοση της πληροφορίας (μετάδοση προς τα πίσω των παραγώγων σφάλματος ως προς τα βάρη - backward propagation), και τέλος, να ενημερώσετε τις παραμέτρους (weight update). Θα πρέπει να επιλέξετε μια κατάλληλη συνάρτηση απώλειας και βελτιστοποιητή (optimizer) από την βιβλιοθήκη PyTorch για αυτό το πρόβλημα.\n",
        "\n",
        "Αυτή η συνάρτηση θα χρησιμοποιηθεί στα επόμενα ζητήματα με διαφορετικά δίκτυα. Θα μπορείτε δηλαδή να χρησιμοποιήσετε τη μέθοδο `train_net` για να εκπαιδεύσετε το βαθύ νευρωνικό σας δίκτυο, εφόσον προσδιορίσετε τη συγκεκριμένη αρχιτεκτονική σας και εφαρμόσετε το `forward pass` σε μια υπο/κλάσση της DNN (βλ. παράδειγμα \"LinearClassifier(DNN)\").\n",
        "Μπορείτε να ανατρέξετε στη διεύθυνση https://pytorch.org/tutorials/beginner/pytorch_with_examples.html για περισσότερες πληροφορίες.\n",
        "Επίσης, ένα αρκετά χρήσιμο \"tutorial\" περιλαμβάνεται στο σημειωματάριο jupyter `(tutorial1_pytorch_introduction.ipynb)` στη σελίδα ecourse του μαθήματος.\n",
        "\n"
      ]
    },
    {
      "cell_type": "code",
      "execution_count": 56,
      "metadata": {
        "id": "Ky0FksEwqDta"
      },
      "outputs": [],
      "source": [
        "import torch.nn.init\n",
        "import torch.optim as optim\n",
        "from torch.autograd import Variable\n",
        "from torch.nn.parameter import Parameter\n",
        "from tqdm import tqdm\n",
        "from scipy.stats import truncnorm\n",
        " # base class for your deep neural networks. It implements\n",
        " # the training loop (train_net).\n",
        "class DNN(nn.Module):\n",
        "  def __init__(self):\n",
        "    super(DNN, self).__init__()\n",
        "    pass\n",
        "  def forward(self, x):\n",
        "    raise NotImplementedError\n",
        "  def train_net(self, X_train, y_train, epochs=1, batchSize=50):\n",
        "        optimizer = optim.SGD(self.parameters(), lr=0.01)\n",
        "        criterion = nn.CrossEntropyLoss()# combination of a softmax operation\n",
        "        # + log likelihood maximization\n",
        "        nbatches=0#number of batches\n",
        "        samples = len(X_train)# number of samples\n",
        "        var=not (samples % batchSize == 0)# if batch size can divide the number\n",
        "        # of samples \n",
        "        var1=samples // batchSize#whole batches\n",
        "        nbatches = var1 + var#find all the batches\n",
        "        sum_loss = 0.0# initialization of the sum loss\n",
        "        startingid =0#starting index\n",
        "        endingid =0#ending index\n",
        "        losses = []#will keep the losses\n",
        "        for epoch in range(epochs):#at every epoch\n",
        "            for ind,r in enumerate(range(nbatches)):# iterate the batches \n",
        "                startingid = ind * batchSize# find the starting index \n",
        "                #of this batch\n",
        "                endingid = startingid + batchSize# find the ending index\n",
        "                # of this batch\n",
        "                if endingid <= samples:\n",
        "                  endingid=endingid# there are enough samples they\n",
        "                  # are remaining \n",
        "                  #to make a  batch\n",
        "                else:  # there are not enough \n",
        "                  endingid = samples#we include the remaining samples \n",
        "                  #into last batch\n",
        "                xt1=X_train[startingid:endingid]# get the inputs\n",
        "                inp = torch.from_numpy(xt1).float()# convert to torch tensor\n",
        "                yt1=y_train[startingid:endingid]# takes the target labels\n",
        "                labels = torch.tensor(yt1, dtype=torch.long)# convert to \n",
        "                #torch tensor\n",
        "                optimizer.zero_grad()# zero the parameter gradients\n",
        "                # forward + backward + optimize\n",
        "                out = self.forward(inp)\n",
        "                loss = criterion(out, labels)\n",
        "                loss.backward()# autograd magic, computes all the\n",
        "                # partial derivatives\n",
        "                optimizer.step() # takes a step in gradient direction\n",
        "                losses.append(loss.item()) # print statistics\n",
        "                sum_loss += loss.item()#update the sum loss\n",
        "            loss=sum_loss / nbatches# find the average loss \n",
        "            print('Epoch: %d loss: %.3f' % (epoch + 1, loss))#print\n",
        "            sum_loss = 0.0\n",
        "\n",
        "  def __call__(self, x):\n",
        "    inputs = Variable(torch.FloatTensor(x))\n",
        "    prediction = self.forward(inputs)\n",
        "    return np.argmax(prediction.data.cpu().numpy(), 1)\n",
        "# helper function to get weight variable\n",
        "def weight_variable(shape):\n",
        "  initial = torch.Tensor(truncnorm.rvs(-1/0.01, 1/0.01, scale=0.01, size=shape))\n",
        "  return Parameter(initial, requires_grad=True)\n",
        "  # helper function to get bias variable\n",
        "def bias_variable(shape):\n",
        "  initial = torch.Tensor(np.ones(shape)*0.1)\n",
        "  return Parameter(initial, requires_grad=True)\n"
      ]
    },
    {
      "cell_type": "code",
      "execution_count": 57,
      "metadata": {
        "id": "2HYVuzbtosJo"
      },
      "outputs": [],
      "source": [
        "# example linear classifier - input connected to output\n",
        "# you can take this as an example to learn how to extend DNN class\n",
        "class LinearClassifier(DNN):\n",
        "  def __init__(self, in_features=28*28, classes=10):\n",
        "    super(LinearClassifier, self).__init__()\n",
        "    # in_features=28*28\n",
        "    self.weight1 = weight_variable((classes, in_features))\n",
        "    self.bias1 = bias_variable((classes))\n",
        "\n",
        "  def forward(self, x):\n",
        "  # linear operation\n",
        "    t=x.view(list(x.size())[0], -1)\n",
        "    y_pred = torch.addmm(self.bias1, t, self.weight1.t())\n",
        "    return y_pred\n",
        "\n",
        "#X_train=np.float32(np.expand_dims(X_train,-1))/255\n",
        "#X_train=X_train.transpose((0,3,1,2))\n",
        "#X_test=np.float32(np.expand_dims(X_test,-1))/255\n",
        "#X_test=X_test.transpose((0,3,1,2))\n",
        "\n",
        "X_train = np.float32(X_train) / 255.0\n",
        "X_train = X_train.reshape(-1, 1, 28, 28)\n",
        "X_test = np.float32(X_test) / 255.0\n",
        "X_test = X_test.reshape(-1, 1, 28, 28)"
      ]
    },
    {
      "cell_type": "code",
      "execution_count": 58,
      "metadata": {
        "id": "J-UGSj6FqRKf",
        "colab": {
          "base_uri": "https://localhost:8080/"
        },
        "outputId": "205bc3d7-8ba3-43ba-aefd-7e40586768c9"
      },
      "outputs": [
        {
          "output_type": "stream",
          "name": "stdout",
          "text": [
            "Epoch: 1 loss: 0.895\n",
            "Epoch: 2 loss: 0.511\n",
            "Epoch: 3 loss: 0.443\n",
            "Epoch: 4 loss: 0.410\n",
            "Epoch: 5 loss: 0.389\n",
            "Epoch: 6 loss: 0.374\n",
            "Epoch: 7 loss: 0.363\n",
            "Epoch: 8 loss: 0.354\n",
            "Epoch: 9 loss: 0.347\n",
            "Epoch: 10 loss: 0.341\n",
            "Linear classifier accuracy: 91.210000\n"
          ]
        }
      ],
      "source": [
        "# test the example linear classifier (note you should get around 90% accuracy\n",
        "# for 10 epochs and batchsize 50)\n",
        "linearClassifier = LinearClassifier()\n",
        "linearClassifier.train_net(X_train, y_train, epochs=10)\n",
        "\n",
        "print ('Linear classifier accuracy: %f'%test(X_test, y_test, linearClassifier))"
      ]
    },
    {
      "cell_type": "code",
      "execution_count": 59,
      "metadata": {
        "id": "8RA5688oyNTu",
        "colab": {
          "base_uri": "https://localhost:8080/",
          "height": 713
        },
        "outputId": "f13a5583-3ee5-4ede-d042-79e29813b28a"
      },
      "outputs": [
        {
          "output_type": "stream",
          "name": "stderr",
          "text": [
            "100%|██████████| 200/200 [00:02<00:00, 96.08it/s]\n"
          ]
        },
        {
          "output_type": "display_data",
          "data": {
            "text/plain": [
              "<Figure size 1400x600 with 1 Axes>"
            ],
            "image/png": "[encoded data removed]"
          },
          "metadata": {}
        },
        {
          "output_type": "stream",
          "name": "stdout",
          "text": [
            "[[0.98 0.   0.   0.   0.   0.   0.01 0.   0.   0.  ]\n",
            " [0.   0.97 0.   0.   0.   0.   0.   0.   0.02 0.  ]\n",
            " [0.01 0.01 0.87 0.02 0.01 0.   0.02 0.02 0.04 0.01]\n",
            " [0.   0.   0.02 0.9  0.   0.03 0.   0.01 0.02 0.01]\n",
            " [0.   0.   0.01 0.   0.93 0.   0.01 0.   0.01 0.04]\n",
            " [0.01 0.   0.   0.04 0.01 0.85 0.02 0.01 0.03 0.01]\n",
            " [0.02 0.   0.   0.   0.01 0.02 0.94 0.   0.   0.  ]\n",
            " [0.   0.01 0.02 0.01 0.01 0.   0.   0.91 0.   0.03]\n",
            " [0.01 0.01 0.01 0.03 0.01 0.03 0.01 0.02 0.88 0.01]\n",
            " [0.01 0.01 0.   0.01 0.04 0.01 0.   0.02 0.01 0.89]]\n"
          ]
        }
      ],
      "source": [
        "# display confusion matrix\n",
        "M = Confusion(X_test, y_test, linearClassifier)[0]#get the confusion matrix\n",
        "VisualizeConfussion(M)#show him\n"
      ]
    },
    {
      "cell_type": "markdown",
      "metadata": {
        "id": "mNzcCiLr0AU8"
      },
      "source": [
        "### Ζήτημα 2.3: Οπτικοποίηση Βαρών (Visualizing Weights of Single Layer Perceptron) [3 μονάδες]\n",
        "Αυτός ο απλός γραμμικός ταξινομητής που υλοποιείται στο παραπάνω κελί (το μοντέλο απλά επιστρέφει ένα γραμμικό συνδυασμό της εισόδου) παρουσιάζει ήδη αρκετά καλά αποτελέσματα.\n",
        "\n",
        "- Σχεδιάστε τα βάρη του φίλτρου που αντιστοιχούν σε κάθε κατηγορία εξόδου (τα **βάρη**/weights, όχι τους όρους *bias*) ως εικόνες. Κανονικοποιήστε τα βάρη ώστε να βρίσκονται μεταξύ 0 και 1 ( $z_i = (w_i - min(w)) / (max(w) – min(w))$ ). Χρησιμοποιήστε έγχρωμους χάρτες όπως \"inferno\" ή \"plasma\" για καλά αποτελέσματα (π.χ. cmap='inferno', ως όρισμα της imshow()).\n",
        "\n",
        "- Σχολιάστε με τι μοιάζουν τα βάρη και γιατί μπορεί να συμβαίνει αυτό.\n"
      ]
    },
    {
      "cell_type": "code",
      "execution_count": 60,
      "metadata": {
        "id": "Q8S3dYZgzzT_",
        "colab": {
          "base_uri": "https://localhost:8080/",
          "height": 506
        },
        "outputId": "adceaaac-7124-4ed3-d496-687719bd1e8e"
      },
      "outputs": [
        {
          "output_type": "display_data",
          "data": {
            "text/plain": [
              "<Figure size 1050x550 with 11 Axes>"
            ],
            "image/png": "[encoded data removed]"
          },
          "metadata": {}
        }
      ],
      "source": [
        "#Plot filter weights corresponding to each class, you may have to reshape them \n",
        "#to make sense out of them\n",
        "# linearClassifier.weight1.data will give you the first layer weights\n",
        "#take the weights from linearClassifier.weight1.data \n",
        "weight = linearClassifier.weight1.data\n",
        "minw = torch.min(weight)#minimum value from weights\n",
        "maxw = torch.max(weight)#maximum value from weights\n",
        "\n",
        "# we normalize the weights between values 0 until 1\n",
        "t=maxw - minw\n",
        "normalw = torch.div((weight - minw),t)\n",
        "size=(10.5, 5.5)\n",
        "f = plt.figure(figsize=size)#create a figure\n",
        "plt.title(\"Weights\")#put title in plot\n",
        "im = [f.add_subplot(2, 5, (w * 5) + (z + 1))\n",
        " for w in range(0,2) for z in range(0,5)]\n",
        "#grid with 2 rows and 5 columns for showing weights\n",
        "count = 0#initialize a counter \n",
        "for ii in im:#iterate the subplots\n",
        "  image=normalw[count]\n",
        "  ii.imshow(image.reshape(28, 28), cmap='inferno')#show every weight\n",
        "  plt.tick_params(left=False)#it will not show the y axis\n",
        "  plt.tick_params(bottom=False)#it will not show the x axis\n",
        "  count += 1\n",
        "  plt.subplots_adjust(hspace = 0.5)#it sets the space between subplots at 0.5\n",
        "  \n",
        "plt.show() #show the plot   \n"
      ]
    },
    {
      "cell_type": "markdown",
      "metadata": {
        "id": "zmQUOBNg0PkW"
      },
      "source": [
        "#### Σχολιασμός των βαρών\n"
      ]
    },
    {
      "cell_type": "markdown",
      "metadata": {
        "id": "gJBWgsBE0S7K"
      },
      "source": [
        "### Ζήτημα 2.4: Νευρωνικό δίκτυο πολλαπλών επιπέδων - Multi Layer Perceptron (MLP) [7 μονάδες]\n",
        "Θα υλοποιήσετε ένα MLP νευρωνικό δίκτυο. Το MLP θα πρέπει να αποτελείται από 2 επίπεδα (πολλαπλασιασμός βάρους και μετατόπιση μεροληψίας/bias - γραμμικός συνδυασμός εισόδου) που απεικονίζονται (map) στις ακόλουθες διαστάσεις χαρακτηριστικών:\n",
        "\n",
        "* 28x28 -> hidden (50)\n",
        "* hidden (50) -> classes\n",
        "\n",
        "* Το κρυμμένο επίπεδο πρέπει να ακολουθείται από μια μη γραμμική συνάρτηση ενεργοποίησης ReLU. Το τελευταίο επίπεδο δεν θα πρέπει να έχει εφαρμογή μη γραμμικής απεικόνισης καθώς επιθυμούμε την έξοδο ακατέργαστων 'logits' (στη μηχανική μάθηση, τα logits είναι οι τιμές που παράγονται από το τελικό επίπεδο ενός μοντέλου πριν περάσουν από μια συνάρτηση ενεργοποίησης softmax. Αντιπροσωπεύουν τις προβλέψεις του μοντέλου για κάθε κατηγορία χωρίς να μετατρέπονται σε πιθανότητες).\n",
        "* Η τελική έξοδος του υπολογιστικού γράφου (μοντέλου) θα πρέπει να αποθηκευτεί στο self.y καθώς θα χρησιμοποιηθεί στην εκπαίδευση.\n",
        "\n",
        "Εμφανίστε τον πίνακα σύγχυσης (confusion matrix - υλοποίηση 1ης άσκησης) και την ακρίβεια (accuracy) μετά την εκπαίδευση. Σημείωση: Θα πρέπει να έχετε ~95% ακρίβεια για 10 εποχές (epochs) και μέγεθος παρτίδας (batch size) 50.\n",
        "\n",
        "Σχεδιάστε τα βάρη του φίλτρου που αντιστοιχούν στην αντιστοίχιση από τις εισόδους στις πρώτες 10 εξόδους του κρυμμένου επιπέδου (από τις 50 συνολικά). Μοιάζουν τα βάρη αυτά καθόλου με τα βάρη που απεικονίστηκαν στο προηγούμενο ζήτημα; Γιατί ή γιατί όχι?\n",
        "\n",
        "Αναμένεται ότι το μοντέλο εκπαίδευσης θα διαρκέσει από 1 έως μερικά λεπτά για να τρέξει, ανάλογα με τις δυνατότητες της CPU."
      ]
    },
    {
      "cell_type": "code",
      "execution_count": 61,
      "metadata": {
        "id": "Ss2lUgpL0JRh",
        "colab": {
          "base_uri": "https://localhost:8080/"
        },
        "outputId": "f741d9a9-46e6-41cf-ae62-b9e7e11ab3c5"
      },
      "outputs": [
        {
          "output_type": "stream",
          "name": "stdout",
          "text": [
            "Epoch: 1 loss: 1.111\n",
            "Epoch: 2 loss: 0.451\n",
            "Epoch: 3 loss: 0.366\n",
            "Epoch: 4 loss: 0.331\n",
            "Epoch: 5 loss: 0.308\n",
            "Epoch: 6 loss: 0.291\n",
            "Epoch: 7 loss: 0.277\n",
            "Epoch: 8 loss: 0.265\n",
            "Epoch: 9 loss: 0.254\n",
            "Epoch: 10 loss: 0.244\n"
          ]
        }
      ],
      "source": [
        "class MLPClassifer(DNN):\n",
        "  def __init__(self, in_features=28*28, classes=10, hidden=50):\n",
        "    \"\"\"\n",
        "    Initialize weight and bias variables\n",
        "    \"\"\"\n",
        "    super(MLPClassifer, self).__init__()\n",
        "    lin= nn.Linear(in_features, hidden)#make a linear layer \n",
        "    #including input featuresand hidden units\n",
        "    self.featc1 =lin\n",
        "    t1=hidden\n",
        "    self.featc2 = nn.Linear(t1, classes)#make a linear layer \n",
        "    #including input featuresand hidden units\n",
        "\n",
        "  def forward(self, x):\n",
        "    x = x.reshape(len(x), -1)#input tensor has the right shape \n",
        "    y=self.featc1(x)#y has the result of the linear transformation\n",
        "    x = F.relu(y)#x has the output after we apply relu function\n",
        "    x = self.featc2(x)#x has the output of the MLP  after we apply\n",
        "    # linear layers and relu function\n",
        "    return x#return output tensor\n",
        "\n",
        "mlpClassifer = MLPClassifer()\n",
        "mlpClassifer.train_net(X_train, y_train, epochs=10, batchSize=50)"
      ]
    },
    {
      "cell_type": "code",
      "execution_count": 62,
      "metadata": {
        "id": "R-4xraHl0muj",
        "colab": {
          "base_uri": "https://localhost:8080/",
          "height": 748
        },
        "outputId": "07e8fc0a-97c8-451f-c648-008a9d77f49b"
      },
      "outputs": [
        {
          "output_type": "stream",
          "name": "stderr",
          "text": [
            "100%|██████████| 200/200 [00:10<00:00, 18.19it/s]\n"
          ]
        },
        {
          "output_type": "stream",
          "name": "stdout",
          "text": [
            "Confusion matrix - MLP classifier accuracy: 0.240000\n",
            "MLP classifier accuracy: 93.350000\n"
          ]
        },
        {
          "output_type": "display_data",
          "data": {
            "text/plain": [
              "<Figure size 1400x600 with 1 Axes>"
            ],
            "image/png": "[encoded data removed]"
          },
          "metadata": {}
        },
        {
          "output_type": "stream",
          "name": "stdout",
          "text": [
            "[[0.98 0.   0.   0.   0.   0.   0.01 0.   0.   0.  ]\n",
            " [0.   0.98 0.   0.   0.   0.   0.   0.   0.01 0.  ]\n",
            " [0.01 0.01 0.9  0.02 0.01 0.   0.01 0.01 0.03 0.  ]\n",
            " [0.   0.   0.01 0.93 0.   0.02 0.   0.01 0.01 0.01]\n",
            " [0.   0.   0.   0.   0.94 0.   0.01 0.   0.01 0.03]\n",
            " [0.01 0.   0.   0.03 0.01 0.9  0.01 0.01 0.02 0.01]\n",
            " [0.01 0.   0.01 0.   0.01 0.02 0.95 0.   0.   0.  ]\n",
            " [0.   0.01 0.02 0.01 0.   0.   0.   0.93 0.   0.02]\n",
            " [0.01 0.01 0.   0.02 0.01 0.02 0.01 0.01 0.9  0.01]\n",
            " [0.01 0.01 0.   0.01 0.02 0.01 0.   0.01 0.   0.92]]\n"
          ]
        }
      ],
      "source": [
        "# Plot confusion matrix\n",
        "M_mlp,acc_mlp = Confusion(X_test, y_test, mlpClassifer)\n",
        "\n",
        "print ('Confusion matrix - MLP classifier accuracy: %f'%acc_mlp)\n",
        "\n",
        "# Check also standard accucary of test() for consistency\n",
        "print('MLP classifier accuracy: %f'%test(X_test, y_test, mlpClassifer))\n",
        "\n",
        "VisualizeConfussion(M_mlp)"
      ]
    },
    {
      "cell_type": "code",
      "execution_count": 63,
      "metadata": {
        "id": "FLD0yjHH0bVU",
        "colab": {
          "base_uri": "https://localhost:8080/",
          "height": 506
        },
        "outputId": "225e3402-4f0d-4ef3-bdca-7c0ccd8006c7"
      },
      "outputs": [
        {
          "output_type": "display_data",
          "data": {
            "text/plain": [
              "<Figure size 1050x550 with 11 Axes>"
            ],
            "image/png": "[encoded data removed]"
          },
          "metadata": {}
        }
      ],
      "source": [
        " # Plot filter weights\n",
        "wg = []#initializes wg that will keep the weight tensors\n",
        "for x in range(0,10):# loop to take each row of the weight \n",
        "    weight5 = mlpClassifer.featc1.weight[x]#takes the weight tensor\n",
        "    t=weight5.detach()# detaches the weight tensor from the computation graph\n",
        "    wg.append(t.numpy())#append to the wg list\n",
        "size=(10.5, 5.5)\n",
        "fig = plt.figure(figsize=size)#create a figure\n",
        "plt.title(\"Weights\")#put title in plot\n",
        "im = [fig.add_subplot(2, 5, (w * 5) + (z + 1)) \n",
        "for w in range(2) for z in range(5)]\n",
        "#grid with 2 rows and 5 columns for showing weights\n",
        "count = 0#initialize a counter \n",
        "\n",
        "for ii in im:#iterate the subplots\n",
        "  var=wg[count]\n",
        "  ii.imshow(var.reshape(28, 28), cmap='inferno')#show every weight\n",
        "  plt.tick_params(left=False)#it will not show the y axis\n",
        "  plt.tick_params(bottom=False)#it will not show the x axis\n",
        "  count += 1\n",
        "  plt.subplots_adjust(hspace = 0.5)#it sets the space between subplots at 0.5\n",
        "  \n",
        "plt.show()    #show the plot \n"
      ]
    },
    {
      "cell_type": "markdown",
      "metadata": {
        "id": "tBC6s9qQ1KKj"
      },
      "source": [
        "### Ζήτημα 2.5: Συνελικτικό Νευρωνικό Δίκτυο - Convolutional Neural Network (CNN) [8 μονάδες]\n",
        "Εδώ θα υλοποιήσετε ένα CNN με την ακόλουθη αρχιτεκτονική:\n",
        "\n",
        "* n=10 (output features or filters)\n",
        "* ReLU( Conv(kernel_size=5x5, stride=2, output_features=n) )\n",
        "* ReLU( Conv(kernel_size=5x5, stride=2, output_features=n*2) )\n",
        "* ReLU( Linear(hidden units = 64) )\n",
        "* Linear(output_features=classes)\n",
        "\n",
        "Δηλαδή, 2 συνελικτικά επίπεδα (Conv Layers) όπου απεικονίζουν μη-γραμμικά (ReLU) την είσοδο του προηγούμενου επιπέδου, ακολουθούμενα από 1 πλήρως συνδεδεμένο κρυμμένο επίπεδο (FC hidden layer) με μη γραμμική ενεργοποίηση (ReLU) και μετά το επίπεδο εξόδου (output layer) όπου συνδυάζει γραμμικά τις τιμές του προηγούμενου επιπέδου.\n",
        "\n",
        "Εμφανίστε τον πίνακα σύγχυσης και την ακρίβεια μετά την εκπαίδευση. Θα πρέπει να έχετε περίπου ~98% ακρίβεια για 10 εποχές και μέγεθος παρτίδας 50.<br><br>\n",
        "\n",
        "**Σημείωση: Δεν επιτρέπεται να χρησιμοποιείτε τις torch.nn.Conv2d() και torch.nn.Linear(). Η χρήση αυτών θα οδηγήσει σε αφαίρεση μονάδων. Χρησιμοποιήστε τις δηλωμένες συναρτήσεις conv2d(), weight_variable() και bias_variable().** Ωστόσο στην πράξη, όταν προχωρήσετε μετά από αυτό το μάθημα, θα χρησιμοποιήσετε torch.nn.Conv2d() που κάνει τη ζωή πιο εύκολη και αποκρύπτει όλες τις υποφαινόμενες λειτουργίες.\n",
        "\n",
        "**Μην** ξεχάσετε να σχολιάσετε τον κώδικά σας όπου χρειάζεται (π.χ. στον τρόπο υπολογισμού των διαστάσεων της εξόδου σε κάθε επίπεδο)."
      ]
    },
    {
      "cell_type": "code",
      "execution_count": 64,
      "metadata": {
        "id": "-OhmF0NM1Clj",
        "colab": {
          "base_uri": "https://localhost:8080/"
        },
        "outputId": "daa6e28a-14ea-4a67-eb8c-471510fbe1dd"
      },
      "outputs": [
        {
          "output_type": "stream",
          "name": "stdout",
          "text": [
            "Epoch: 1 loss: 2.302\n",
            "Epoch: 2 loss: 2.301\n",
            "Epoch: 3 loss: 2.301\n",
            "Epoch: 4 loss: 2.301\n",
            "Epoch: 5 loss: 2.301\n",
            "Epoch: 6 loss: 2.300\n",
            "Epoch: 7 loss: 2.292\n",
            "Epoch: 8 loss: 0.973\n",
            "Epoch: 9 loss: 0.324\n",
            "Epoch: 10 loss: 0.239\n"
          ]
        }
      ],
      "source": [
        "import torch.nn.functional as F\n",
        "import torch.optim as optim\n",
        "import torch.nn as nn\n",
        "import numpy as np\n",
        "def conv2d(x, W, stride, bias=None):\n",
        "# x: input\n",
        "# W: weights (out, in, kH, kW)\n",
        "  return F.conv2d(x, W, bias, stride=stride, padding=2)\n",
        "# Defining a Convolutional Neural Network\n",
        "class CNNClassifer(DNN):\n",
        "  def __init__(self, classes=10, n=10):\n",
        "        super(CNNClassifer, self).__init__()\n",
        "        self.classes=classes#initilization of self.classes\n",
        "        self.n=n#initilization of self.n\n",
        "        t1=tuple([self.n, 1, 5, 5])\n",
        "        self.cbias1 = bias_variable(tuple([self.n]))#bias of\n",
        "        # convolutional layer 1 \n",
        "        self.cweights1 = weight_variable(t1)#weights of convolutional layer 1 \n",
        "        t2=((self.n*2), self.n, 5, 5)\n",
        "        self.cweights2 = weight_variable(t2)#weights of convolutional layer 2\n",
        "        self.cbias2 = bias_variable(tuple([self.n*2]))#bias of \n",
        "        #convolutional layer 2\n",
        "        t3=((16*4), (98*self.n))\n",
        "        self.fweights = weight_variable(t3)#weights of the\n",
        "        # fully connected layer\n",
        "        self.fbias = bias_variable(tuple([16*4]))#bias of the \n",
        "        #fully connected layer\n",
        "        t4=tuple([self.classes, (16*4)])\n",
        "        self.outweights = weight_variable(t4)#weights of output layer\n",
        "        self.outbias = bias_variable(tuple([self.classes]))#bias\n",
        "        # of output layer\n",
        "\n",
        "  def forward(self, x):\n",
        "      x = torch.reshape(x, ((-1), 1, (2*14),(2*14)))  #reshapes the \n",
        "      #input tensor\n",
        "      v1=conv2d(x, W=self.cweights1, stride=2, bias=self.cbias1)\n",
        "#applies the convolution operation on the input x on convolutional Layer 1      \n",
        "      u = F.relu(v1)#applies the relu function to the input tensor\n",
        "      v2=conv2d(u, W=self.cweights2, stride=2, bias=self.cbias2)\n",
        "#applies the convolution operation on the input x on convolutional Layer 2      \n",
        "      y = F.relu(v2)#applies the relu function to the input tensor\n",
        "      x = y.reshape(len(y), -1)#flatten the output\n",
        "      z1=torch.transpose(self.fweights, 0, 1)#transpose the weights at fully\n",
        "      # connected hidden layer\n",
        "      z2=torch.addmm(self.fbias, x, z1)#makes a matrix multiplication \n",
        "      # and adds the bias \n",
        "      x = F.relu(z2)#applies the relu function \n",
        "      w1=torch.transpose(self.outweights, 0, 1)#transpose the weights at \n",
        "      # output layer \n",
        "      y = torch.addmm(self.outbias, x, w1)#makes a matrix multiplication \n",
        "      # and adds the bias \n",
        "      return y#return result\n",
        "\n",
        "cnnClassifer = CNNClassifer()\n",
        "cnnClassifer.train_net(X_train, y_train, epochs=10, batchSize=50)\n"
      ]
    },
    {
      "cell_type": "code",
      "execution_count": 65,
      "metadata": {
        "id": "SWkNhBgf1Sf3",
        "colab": {
          "base_uri": "https://localhost:8080/",
          "height": 748
        },
        "outputId": "704908b9-822d-489b-e066-b7aaf1e4a7c3"
      },
      "outputs": [
        {
          "output_type": "stream",
          "name": "stderr",
          "text": [
            "100%|██████████| 200/200 [00:45<00:00,  4.39it/s]\n"
          ]
        },
        {
          "output_type": "stream",
          "name": "stdout",
          "text": [
            "Confusion matrix - MLP classifier accuracy: 0.270000\n",
            "MLP classifier accuracy: 93.070000\n"
          ]
        },
        {
          "output_type": "display_data",
          "data": {
            "text/plain": [
              "<Figure size 1400x600 with 1 Axes>"
            ],
            "image/png": "[encoded data removed]"
          },
          "metadata": {}
        },
        {
          "output_type": "stream",
          "name": "stdout",
          "text": [
            "[[0.99 0.   0.   0.   0.   0.   0.   0.   0.   0.  ]\n",
            " [0.   0.99 0.   0.   0.   0.   0.   0.   0.01 0.  ]\n",
            " [0.02 0.01 0.92 0.02 0.01 0.   0.01 0.   0.01 0.  ]\n",
            " [0.   0.01 0.01 0.93 0.   0.02 0.   0.01 0.01 0.01]\n",
            " [0.   0.   0.01 0.   0.91 0.   0.01 0.   0.   0.06]\n",
            " [0.01 0.01 0.   0.02 0.   0.93 0.01 0.   0.01 0.01]\n",
            " [0.01 0.01 0.   0.   0.01 0.03 0.94 0.   0.   0.  ]\n",
            " [0.   0.01 0.02 0.01 0.01 0.   0.   0.88 0.   0.06]\n",
            " [0.01 0.02 0.   0.03 0.01 0.03 0.01 0.   0.88 0.02]\n",
            " [0.01 0.01 0.   0.01 0.02 0.   0.   0.   0.   0.93]]\n"
          ]
        }
      ],
      "source": [
        " # Plot confusion matrix and print the test accuracy of the classifier\n",
        "M_cnn,acc_cnn = Confusion(X_test, y_test, cnnClassifer)\n",
        "\n",
        "print ('Confusion matrix - MLP classifier accuracy: %f'%acc_cnn)\n",
        "# Check also standard accucary of test() for consistency\n",
        "print ('MLP classifier accuracy: %f'%test(X_test, y_test, cnnClassifer))\n",
        "VisualizeConfussion(M_cnn)"
      ]
    },
    {
      "cell_type": "markdown",
      "metadata": {
        "id": "nHx9gSiK1xVp"
      },
      "source": [
        "* Σημειώστε ότι οι προσεγγίσεις MLP/ConvNet οδηγούν σε λίγο μεγαλύτερη ακρίβεια ταξινόμησης από την προσέγγιση K-NN. \n",
        "* Στη γενική περίπτωση, οι προσεγγίσεις Νευρωνικών Δικτύων οδηγούν σε σημαντική αύξηση της ακρίβειας, αλλά, σε αυτή την περίπτωση, εφόσον το πρόβλημα δεν είναι ιδιαίτερα δύσκολο, η αύξηση της ακρίβειας δεν είναι και τόσο υψηλή.\n",
        "* Ωστόσο, αυτό εξακολουθεί να είναι αρκετά σημαντικό, δεδομένου του γεγονότος ότι τα ConvNets που χρησιμοποιήσαμε είναι σχετικά απλά, ενώ η ακρίβεια που επιτυγχάνεται χρησιμοποιώντας το K-NN είναι αποτέλεσμα αναζήτησης σε πάνω από 60.000 εικόνες εκπαίδευσης για κάθε εικόνα ελέγχου.\n",
        "* Συνιστάται ιδιαίτερα να αναζητήσετε περισσότερα για τα νευρωνικά δίκτυα/PyTorch στη διεύθυνση<br> https://pytorch.org/tutorials/beginner/deep_learning_60min_blitz.html καθώς και στο σχετικό tutorial στη σελίδα ecourse του μαθήματος **tutorial1_pytorch_introduction.ipynb**.\n",
        "* Τέλος, μπορείτε ακόμη να πειραματιστείτε (από δικό σας ενδιαφέρον) με ένα demo νευρωνικού δικτύου που δημιουργήθηκε από τους Daniel Smilkov και Shan Carter στη διεύθυνση https://playground.tensorflow.org/ (για πλατφόρμα TensorFlow).\n",
        "\n",
        "\n",
        "\n",
        "## Οδηγίες υποβολής\n",
        "\n",
        "Μην ξεχάσετε να κάνετε turnin το αρχείο Jupyter notebook **και** το PDF αρχείο αυτού του notebook μαζί με το συνοδευτικό αρχείο `onoma.txt`:\n",
        "**turnin  assignment_3@mye046 onoma.txt assignment3.ipynb assignment3.pdf**\n",
        "\n",
        "Βεβαιωθείτε ότι το περιεχόμενο σε **κάθε κελί εμφανίζεται** καθαρά στο τελικό σας αρχείο PDF.\n",
        "Για να μετατρέψετε το σημειωματάριο σε PDF, μπορείτε να επιλέξετε **έναν** από τους παρακάτω τρόπους:\n",
        "\n",
        "1. Google Colab (Συνιστάται): You can `print` the web page and save as PDF (e.g. Chrome: Right click the web page $\\rightarrow$ Print... $\\rightarrow$ Choose \"Destination: Save as PDF\" and click \"Save\"). Προσοχή στην περίπτωση όπου κώδικας/σχόλια εμφανίζονται εκτός των ορίων της σελίδας. Μια λύση είναι η αλλαγή γραμμής π.χ. σε σχόλια που υπερβαίνουν το πλάτος της σελίδας.\n",
        "* Στην περίπτωση που οι εικόνες εξόδου δεν εμφανίζονται σωστά, μια λύση μέσω colab είναι (εργαλείο nbconvert):\n",
        "   * Ανέβασμα του αρχείου `assignment3.ipynb` στο home directory του Colaboratory (ο κατάλογος home είναι: /content/).\n",
        "   * Εκτελέστε σε ένα κελί colab ενός νέου notebook: `!jupyter nbconvert --to html /content/assignment3.ipynb`\n",
        "   * Κάνετε λήψη του assignment3.html τοπικά στον υπολογιστή σας και ανοίξτε το αρχείο μέσω browser ώστε να το εξάγετε ως PDF.\n",
        "\n",
        "2. Local Jupyter/JupyterLab(Συνιστάται): You can `print` the web page and save as PDF (File $\\rightarrow$ Print... $\\rightarrow$ Choose \"Destination: Save as PDF\" and click \"Save\"). Προσοχή στην περίπτωση όπου κώδικας/σχόλια εμφανίζονται εκτός των ορίων της σελίδας. Μια λύση είναι η αλλαγή γραμμής π.χ. σε σχόλια που υπερβαίνουν το πλάτος της σελίδας.\n",
        "\n",
        "3. Local Jupyter/JupyterLab(Συνιστάται!): You can `export` and save as HTML (File $\\rightarrow$ Save & Export Notebook as... $\\rightarrow$ HTML). Στη συνέχεια μπορείτε να μετατρέψεται το HTML αρχείο αποθηκεύοντάς το ως PDF μέσω ενός browser."
      ]
    }
  ],
  "metadata": {
    "anaconda-cloud": {},
    "colab": {
      "collapsed_sections": [
        "zmQUOBNg0PkW"
      ],
      "provenance": []
    },
    "hide_input": false,
    "kernelspec": {
      "display_name": "Python 3 (ipykernel)",
      "language": "python",
      "name": "python3"
    },
    "language_info": {
      "codemirror_mode": {
        "name": "ipython",
        "version": 3
      },
      "file_extension": ".py",
      "mimetype": "text/x-python",
      "name": "python",
      "nbconvert_exporter": "python",
      "pygments_lexer": "ipython3",
      "version": "3.10.9"
    },
    "toc": {
      "colors": {
        "hover_highlight": "#DAA520",
        "running_highlight": "#FF0000",
        "selected_highlight": "#FFD700"
      },
      "moveMenuLeft": true,
      "nav_menu": {
        "height": "123px",
        "width": "252px"
      },
      "navigate_menu": true,
      "number_sections": true,
      "sideBar": true,
      "threshold": 4,
      "toc_cell": false,
      "toc_section_display": "block",
      "toc_window_display": false,
      "widenNotebook": false
    }
  },
  "nbformat": 4,
  "nbformat_minor": 0
}